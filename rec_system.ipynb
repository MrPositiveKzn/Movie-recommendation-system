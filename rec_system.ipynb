{
 "cells": [
  {
   "cell_type": "markdown",
   "metadata": {
    "colab_type": "text",
    "id": "view-in-github"
   },
   "source": [
    "<a href=\"https://colab.research.google.com/github/MyNameIsEldar/Movie_Recommender/blob/main/rec_system.ipynb\" target=\"_parent\"><img src=\"https://colab.research.google.com/assets/colab-badge.svg\" alt=\"Open In Colab\"/></a>"
   ]
  },
  {
   "cell_type": "markdown",
   "metadata": {
    "id": "eS846b2dBXoL"
   },
   "source": [
    "### Импорты"
   ]
  },
  {
   "cell_type": "code",
   "execution_count": 1,
   "metadata": {
    "id": "pN5ZuxCO_osz"
   },
   "outputs": [],
   "source": [
    "import numpy as np\n",
    "\n",
    "import pandas as pd\n",
    "import os\n",
    "from tqdm.notebook import tqdm\n",
    "\n",
    "import seaborn as sns\n",
    "import matplotlib.pyplot as plt\n",
    "\n",
    "import torch\n",
    "import torch.nn as nn\n",
    "from torch.utils.data import Dataset, DataLoader\n",
    "\n",
    "from sklearn.metrics import mean_squared_error, roc_auc_score, f1_score"
   ]
  },
  {
   "cell_type": "code",
   "execution_count": 2,
   "metadata": {
    "id": "sfzXv2p8plON"
   },
   "outputs": [],
   "source": [
    "device = torch.device(\"cuda\" if torch.cuda.is_available() else \"cpu\")"
   ]
  },
  {
   "cell_type": "code",
   "execution_count": 3,
   "metadata": {
    "colab": {
     "base_uri": "https://localhost:8080/"
    },
    "id": "hBufE8jypw2K",
    "outputId": "c3df4f08-a815-407b-e7f3-cf3eda8cb1ff"
   },
   "outputs": [
    {
     "data": {
      "text/plain": [
       "device(type='cpu')"
      ]
     },
     "execution_count": 3,
     "metadata": {},
     "output_type": "execute_result"
    }
   ],
   "source": [
    "device"
   ]
  },
  {
   "cell_type": "markdown",
   "metadata": {
    "id": "Gt301RjoHVFV"
   },
   "source": [
    "### Получение и обработка данных"
   ]
  },
  {
   "cell_type": "code",
   "execution_count": null,
   "metadata": {
    "id": "LMjAg_QkBFIa"
   },
   "outputs": [],
   "source": [
    "!wget https://files.grouplens.org/datasets/movielens/ml-latest.zip\n",
    "!unzip ml-latest.zip"
   ]
  },
  {
   "cell_type": "code",
   "execution_count": 4,
   "metadata": {
    "id": "nrZiiw71JAPU"
   },
   "outputs": [],
   "source": [
    "PATH = 'ml-latest/'"
   ]
  },
  {
   "cell_type": "code",
   "execution_count": 5,
   "metadata": {
    "id": "c-_Nb-XcJ_nq"
   },
   "outputs": [],
   "source": [
    "ratings = pd.read_csv(PATH+'ratings.csv')\n",
    "genome_scores = pd.read_csv(PATH+'genome-scores.csv')\n",
    "genome_tags = pd.read_csv(PATH+'genome-tags.csv')\n",
    "links = pd.read_csv(PATH+'links.csv')\n",
    "movies = pd.read_csv(PATH+'movies.csv')\n",
    "tags = pd.read_csv(PATH+'tags.csv')"
   ]
  },
  {
   "cell_type": "code",
   "execution_count": 6,
   "metadata": {
    "colab": {
     "base_uri": "https://localhost:8080/",
     "height": 206
    },
    "id": "dC2xzNZ-KIHQ",
    "outputId": "e8ceabfc-84dd-4732-bd7a-509099d59675"
   },
   "outputs": [
    {
     "data": {
      "text/html": [
       "<div>\n",
       "<style scoped>\n",
       "    .dataframe tbody tr th:only-of-type {\n",
       "        vertical-align: middle;\n",
       "    }\n",
       "\n",
       "    .dataframe tbody tr th {\n",
       "        vertical-align: top;\n",
       "    }\n",
       "\n",
       "    .dataframe thead th {\n",
       "        text-align: right;\n",
       "    }\n",
       "</style>\n",
       "<table border=\"1\" class=\"dataframe\">\n",
       "  <thead>\n",
       "    <tr style=\"text-align: right;\">\n",
       "      <th></th>\n",
       "      <th>userId</th>\n",
       "      <th>movieId</th>\n",
       "      <th>rating</th>\n",
       "      <th>timestamp</th>\n",
       "    </tr>\n",
       "  </thead>\n",
       "  <tbody>\n",
       "    <tr>\n",
       "      <th>0</th>\n",
       "      <td>1</td>\n",
       "      <td>307</td>\n",
       "      <td>3.5</td>\n",
       "      <td>1256677221</td>\n",
       "    </tr>\n",
       "    <tr>\n",
       "      <th>1</th>\n",
       "      <td>1</td>\n",
       "      <td>481</td>\n",
       "      <td>3.5</td>\n",
       "      <td>1256677456</td>\n",
       "    </tr>\n",
       "    <tr>\n",
       "      <th>2</th>\n",
       "      <td>1</td>\n",
       "      <td>1091</td>\n",
       "      <td>1.5</td>\n",
       "      <td>1256677471</td>\n",
       "    </tr>\n",
       "    <tr>\n",
       "      <th>3</th>\n",
       "      <td>1</td>\n",
       "      <td>1257</td>\n",
       "      <td>4.5</td>\n",
       "      <td>1256677460</td>\n",
       "    </tr>\n",
       "    <tr>\n",
       "      <th>4</th>\n",
       "      <td>1</td>\n",
       "      <td>1449</td>\n",
       "      <td>4.5</td>\n",
       "      <td>1256677264</td>\n",
       "    </tr>\n",
       "  </tbody>\n",
       "</table>\n",
       "</div>"
      ],
      "text/plain": [
       "   userId  movieId  rating   timestamp\n",
       "0       1      307     3.5  1256677221\n",
       "1       1      481     3.5  1256677456\n",
       "2       1     1091     1.5  1256677471\n",
       "3       1     1257     4.5  1256677460\n",
       "4       1     1449     4.5  1256677264"
      ]
     },
     "execution_count": 6,
     "metadata": {},
     "output_type": "execute_result"
    }
   ],
   "source": [
    "ratings.head()"
   ]
  },
  {
   "cell_type": "code",
   "execution_count": 7,
   "metadata": {
    "colab": {
     "base_uri": "https://localhost:8080/"
    },
    "id": "lrqnkGrLzaHz",
    "outputId": "9d73f792-03d9-4a45-8a2b-f5fe214858c9"
   },
   "outputs": [
    {
     "name": "stdout",
     "output_type": "stream",
     "text": [
      "<class 'pandas.core.frame.DataFrame'>\n",
      "RangeIndex: 27753444 entries, 0 to 27753443\n",
      "Data columns (total 4 columns):\n",
      " #   Column     Dtype  \n",
      "---  ------     -----  \n",
      " 0   userId     int64  \n",
      " 1   movieId    int64  \n",
      " 2   rating     float64\n",
      " 3   timestamp  int64  \n",
      "dtypes: float64(1), int64(3)\n",
      "memory usage: 847.0 MB\n"
     ]
    }
   ],
   "source": [
    "ratings.info()"
   ]
  },
  {
   "cell_type": "markdown",
   "metadata": {
    "id": "8tSbGdBPzdBZ"
   },
   "source": [
    "27M слишком большой датасет поэтому будем использовать только 10 %"
   ]
  },
  {
   "cell_type": "code",
   "execution_count": 8,
   "metadata": {
    "colab": {
     "base_uri": "https://localhost:8080/"
    },
    "id": "ocjm3tsXzcRi",
    "outputId": "3af63081-ea70-4f02-cdb4-0ccb3bddad91"
   },
   "outputs": [
    {
     "name": "stdout",
     "output_type": "stream",
     "text": [
      "There are 2777580 rows of data from 28322 users\n"
     ]
    }
   ],
   "source": [
    "rand_userIds = np.random.choice(ratings['userId'].unique(), \n",
    "                                size=int(len(ratings['userId'].unique())*0.10), \n",
    "                                replace=False)\n",
    "\n",
    "ratings = ratings.loc[ratings['userId'].isin(rand_userIds)]\n",
    "\n",
    "print('There are {} rows of data from {} users'.format(len(ratings), len(rand_userIds)))"
   ]
  },
  {
   "cell_type": "markdown",
   "metadata": {
    "id": "R7Iby05rX2LS"
   },
   "source": [
    "* tag.csv : данные пользователей о тегах к фильмах\n",
    "* rating.csv : оценки фильмов от пользователей в основном будем юзать их\n",
    "* movie.csv : инфа о фильмах\n",
    "* link.csv : ссылки на площадки и другие ресурсы\n",
    "* genome_scores.csv : id фильмов id тегов и актуальность \n",
    "* genome_tags.csv : описание тегов\n",
    "\n"
   ]
  },
  {
   "cell_type": "code",
   "execution_count": 9,
   "metadata": {
    "colab": {
     "base_uri": "https://localhost:8080/"
    },
    "id": "n9mzZnZlYw45",
    "outputId": "1045df62-40b9-4303-8f41-9242f0e803c8"
   },
   "outputs": [
    {
     "data": {
      "text/plain": [
       "rating\n",
       "4.0    743165\n",
       "3.0    550831\n",
       "5.0    407015\n",
       "3.5    340890\n",
       "4.5    239031\n",
       "2.0    183500\n",
       "2.5    136329\n",
       "1.0     88326\n",
       "0.5     44628\n",
       "1.5     43865\n",
       "Name: count, dtype: int64"
      ]
     },
     "execution_count": 9,
     "metadata": {},
     "output_type": "execute_result"
    }
   ],
   "source": [
    "ratings.rating.value_counts()"
   ]
  },
  {
   "cell_type": "code",
   "execution_count": 10,
   "metadata": {
    "colab": {
     "base_uri": "https://localhost:8080/",
     "height": 0
    },
    "id": "wqEGS1T9Munl",
    "outputId": "919bb7f2-9c8d-4359-c273-24a3739aaf6a"
   },
   "outputs": [
    {
     "data": {
      "image/png": "[encoded data removed]",
      "text/plain": [
       "<Figure size 640x480 with 1 Axes>"
      ]
     },
     "metadata": {},
     "output_type": "display_data"
    }
   ],
   "source": [
    "ratings.rating.value_counts().plot(kind='bar')\n",
    "plt.title('Ratings Value Counts')\n",
    "plt.ylabel('Ratings count')\n",
    "plt.xlabel('Rating')\n",
    "plt.show()"
   ]
  },
  {
   "cell_type": "code",
   "execution_count": 11,
   "metadata": {
    "colab": {
     "base_uri": "https://localhost:8080/"
    },
    "id": "NheLOJVLYnVO",
    "outputId": "f92df5bf-83cf-4479-e076-3520dadff367"
   },
   "outputs": [
    {
     "name": "stdout",
     "output_type": "stream",
     "text": [
      "There are 28920 unique films in data\n"
     ]
    }
   ],
   "source": [
    "print(f'There are {ratings.movieId.nunique()} unique films in data')"
   ]
  },
  {
   "cell_type": "code",
   "execution_count": 12,
   "metadata": {
    "colab": {
     "base_uri": "https://localhost:8080/"
    },
    "id": "xztJObZZZ7Eg",
    "outputId": "54016578-b726-4c14-8357-44edb6cbf736"
   },
   "outputs": [
    {
     "name": "stdout",
     "output_type": "stream",
     "text": [
      "There are 28322 unique users in data\n"
     ]
    }
   ],
   "source": [
    "print(f'There are {ratings.userId.nunique()} unique users in data')"
   ]
  },
  {
   "cell_type": "code",
   "execution_count": 13,
   "metadata": {
    "colab": {
     "base_uri": "https://localhost:8080/",
     "height": 0
    },
    "id": "8IVPQp-GZ-cO",
    "outputId": "49770a77-78ab-44d4-aee6-faaed334dab3"
   },
   "outputs": [
    {
     "data": {
      "image/png": "[encoded data removed]",
      "text/plain": [
       "<Figure size 640x480 with 1 Axes>"
      ]
     },
     "metadata": {},
     "output_type": "display_data"
    }
   ],
   "source": [
    "ratings.userId.value_counts()[:10].plot(kind='bar')\n",
    "plt.title('10 Most Active Users')\n",
    "plt.ylabel('User rates count')\n",
    "plt.xlabel('User ID')\n",
    "plt.show()"
   ]
  },
  {
   "cell_type": "code",
   "execution_count": 14,
   "metadata": {
    "colab": {
     "base_uri": "https://localhost:8080/",
     "height": 0
    },
    "id": "x6r6O17ja1QU",
    "outputId": "11ad2835-5a9c-4b93-84e5-1d87a6429614"
   },
   "outputs": [
    {
     "data": {
      "image/png": "[encoded data removed]",
      "text/plain": [
       "<Figure size 640x480 with 1 Axes>"
      ]
     },
     "metadata": {},
     "output_type": "display_data"
    }
   ],
   "source": [
    "ratings.movieId.value_counts()[:10].plot(kind='bar')\n",
    "plt.title('10 Most Popular Movies')\n",
    "plt.ylabel('Movie rates count')\n",
    "plt.xlabel('Movie ID')\n",
    "plt.show()"
   ]
  },
  {
   "cell_type": "code",
   "execution_count": 15,
   "metadata": {
    "colab": {
     "base_uri": "https://localhost:8080/"
    },
    "id": "vY5S9JrlbTFR",
    "outputId": "3ec55efb-3e02-4c9d-c346-881ae9bcfa46"
   },
   "outputs": [
    {
     "name": "stdout",
     "output_type": "stream",
     "text": [
      "<class 'pandas.core.frame.DataFrame'>\n",
      "Index: 2777580 entries, 1854 to 27750012\n",
      "Data columns (total 4 columns):\n",
      " #   Column     Dtype  \n",
      "---  ------     -----  \n",
      " 0   userId     int64  \n",
      " 1   movieId    int64  \n",
      " 2   rating     float64\n",
      " 3   timestamp  int64  \n",
      "dtypes: float64(1), int64(3)\n",
      "memory usage: 106.0 MB\n"
     ]
    }
   ],
   "source": [
    "ratings.info()"
   ]
  },
  {
   "cell_type": "code",
   "execution_count": 16,
   "metadata": {
    "id": "55GVjAf8dyzj"
   },
   "outputs": [],
   "source": [
    "# change dtype for timestamp\n",
    "# ratings.timestamp = pd.to_datetime(ratings.timestamp, unit='s', origin='unix')\n",
    "# ratings.head()"
   ]
  },
  {
   "cell_type": "markdown",
   "metadata": {
    "id": "Q4KEMivkgMSy"
   },
   "source": [
    "Поиск отсутствующих данных"
   ]
  },
  {
   "cell_type": "code",
   "execution_count": 17,
   "metadata": {
    "colab": {
     "base_uri": "https://localhost:8080/"
    },
    "id": "ckK27xqeeBcy",
    "outputId": "92b464f0-8474-444f-dd93-19d81fc7cf1a"
   },
   "outputs": [
    {
     "data": {
      "text/plain": [
       "userId       0\n",
       "movieId      0\n",
       "rating       0\n",
       "timestamp    0\n",
       "dtype: int64"
      ]
     },
     "execution_count": 17,
     "metadata": {},
     "output_type": "execute_result"
    }
   ],
   "source": [
    "ratings.isna().sum()"
   ]
  },
  {
   "cell_type": "markdown",
   "metadata": {
    "id": "VneuM5hxgfAg"
   },
   "source": [
    "Поиск дублирующихся данных"
   ]
  },
  {
   "cell_type": "code",
   "execution_count": 18,
   "metadata": {
    "colab": {
     "base_uri": "https://localhost:8080/"
    },
    "id": "bgwoHnsUgH3I",
    "outputId": "dcf998d2-af3c-41ba-fb31-64bd4c797056"
   },
   "outputs": [
    {
     "data": {
      "text/plain": [
       "0"
      ]
     },
     "execution_count": 18,
     "metadata": {},
     "output_type": "execute_result"
    }
   ],
   "source": [
    "ratings.duplicated().sum()"
   ]
  },
  {
   "cell_type": "markdown",
   "metadata": {
    "id": "JvJUUaTmgqsm"
   },
   "source": [
    "### Подготовка данных"
   ]
  },
  {
   "cell_type": "markdown",
   "metadata": {
    "id": "YAsZlC2bvzIV"
   },
   "source": [
    "### Разбиение датасета \n",
    "\n",
    "Наряду с рейтингом есть также столбец с отметкой времени, в котором указаны дата и время отправки обзора. Используя столбец метки времени, мы реализуем нашу стратегию разделения обучения и тестирования. Для каждого пользователя самый последний отзыв используется в качестве тестового набора, а остальные будут использоваться в качестве обучающих данных.\n",
    "\n",
    "Эта стратегия разделения обучения и тестирования часто используется при обучении и оценке рекомендательных систем. Выполнение случайного разделения было бы нечестным, поскольку мы потенциально могли бы использовать недавние отзывы пользователя для обучения и более ранние отзывы для тестирования. Это приводит к утечке данных с предвзятостью, и производительность обученной модели нельзя обобщить на реальную производительность.\n",
    "\n",
    "Приведенный ниже код разделит наш набор данных рейтингов на обучающий и тестовый наборы."
   ]
  },
  {
   "cell_type": "code",
   "execution_count": 19,
   "metadata": {
    "colab": {
     "base_uri": "https://localhost:8080/",
     "height": 363
    },
    "id": "z_aPheXDgV_a",
    "outputId": "a775d446-542d-4254-e594-f16f7bad7f95"
   },
   "outputs": [
    {
     "data": {
      "text/html": [
       "<div>\n",
       "<style scoped>\n",
       "    .dataframe tbody tr th:only-of-type {\n",
       "        vertical-align: middle;\n",
       "    }\n",
       "\n",
       "    .dataframe tbody tr th {\n",
       "        vertical-align: top;\n",
       "    }\n",
       "\n",
       "    .dataframe thead th {\n",
       "        text-align: right;\n",
       "    }\n",
       "</style>\n",
       "<table border=\"1\" class=\"dataframe\">\n",
       "  <thead>\n",
       "    <tr style=\"text-align: right;\">\n",
       "      <th></th>\n",
       "      <th>userId</th>\n",
       "      <th>movieId</th>\n",
       "      <th>rating</th>\n",
       "      <th>timestamp</th>\n",
       "      <th>rank_latest</th>\n",
       "    </tr>\n",
       "  </thead>\n",
       "  <tbody>\n",
       "    <tr>\n",
       "      <th>1854</th>\n",
       "      <td>21</td>\n",
       "      <td>249</td>\n",
       "      <td>3.0</td>\n",
       "      <td>1238034395</td>\n",
       "      <td>13.0</td>\n",
       "    </tr>\n",
       "    <tr>\n",
       "      <th>1855</th>\n",
       "      <td>21</td>\n",
       "      <td>599</td>\n",
       "      <td>4.5</td>\n",
       "      <td>1238034497</td>\n",
       "      <td>2.0</td>\n",
       "    </tr>\n",
       "    <tr>\n",
       "      <th>1856</th>\n",
       "      <td>21</td>\n",
       "      <td>922</td>\n",
       "      <td>4.0</td>\n",
       "      <td>1238034378</td>\n",
       "      <td>14.0</td>\n",
       "    </tr>\n",
       "    <tr>\n",
       "      <th>1857</th>\n",
       "      <td>21</td>\n",
       "      <td>930</td>\n",
       "      <td>3.5</td>\n",
       "      <td>1238034413</td>\n",
       "      <td>11.0</td>\n",
       "    </tr>\n",
       "    <tr>\n",
       "      <th>1858</th>\n",
       "      <td>21</td>\n",
       "      <td>1237</td>\n",
       "      <td>4.5</td>\n",
       "      <td>1238034466</td>\n",
       "      <td>5.0</td>\n",
       "    </tr>\n",
       "    <tr>\n",
       "      <th>1859</th>\n",
       "      <td>21</td>\n",
       "      <td>2053</td>\n",
       "      <td>1.0</td>\n",
       "      <td>1238034431</td>\n",
       "      <td>9.0</td>\n",
       "    </tr>\n",
       "    <tr>\n",
       "      <th>1860</th>\n",
       "      <td>21</td>\n",
       "      <td>2082</td>\n",
       "      <td>2.5</td>\n",
       "      <td>1238034437</td>\n",
       "      <td>8.0</td>\n",
       "    </tr>\n",
       "    <tr>\n",
       "      <th>1861</th>\n",
       "      <td>21</td>\n",
       "      <td>3730</td>\n",
       "      <td>5.0</td>\n",
       "      <td>1238034480</td>\n",
       "      <td>3.0</td>\n",
       "    </tr>\n",
       "    <tr>\n",
       "      <th>1862</th>\n",
       "      <td>21</td>\n",
       "      <td>3798</td>\n",
       "      <td>2.5</td>\n",
       "      <td>1238034377</td>\n",
       "      <td>15.0</td>\n",
       "    </tr>\n",
       "    <tr>\n",
       "      <th>1863</th>\n",
       "      <td>21</td>\n",
       "      <td>3981</td>\n",
       "      <td>2.0</td>\n",
       "      <td>1238034476</td>\n",
       "      <td>4.0</td>\n",
       "    </tr>\n",
       "  </tbody>\n",
       "</table>\n",
       "</div>"
      ],
      "text/plain": [
       "      userId  movieId  rating   timestamp  rank_latest\n",
       "1854      21      249     3.0  1238034395         13.0\n",
       "1855      21      599     4.5  1238034497          2.0\n",
       "1856      21      922     4.0  1238034378         14.0\n",
       "1857      21      930     3.5  1238034413         11.0\n",
       "1858      21     1237     4.5  1238034466          5.0\n",
       "1859      21     2053     1.0  1238034431          9.0\n",
       "1860      21     2082     2.5  1238034437          8.0\n",
       "1861      21     3730     5.0  1238034480          3.0\n",
       "1862      21     3798     2.5  1238034377         15.0\n",
       "1863      21     3981     2.0  1238034476          4.0"
      ]
     },
     "execution_count": 19,
     "metadata": {},
     "output_type": "execute_result"
    }
   ],
   "source": [
    "ratings['rank_latest'] = ratings.groupby(['userId'])['timestamp'] \\\n",
    "                                .rank(method='first', ascending=False)\n",
    "\n",
    "train_ratings = ratings[ratings['rank_latest'] != 1]\n",
    "test_ratings = ratings[ratings['rank_latest'] == 1]\n",
    "\n",
    "ratings.head(10)"
   ]
  },
  {
   "cell_type": "code",
   "execution_count": 20,
   "metadata": {
    "colab": {
     "base_uri": "https://localhost:8080/",
     "height": 206
    },
    "id": "0fqimUVkvGWp",
    "outputId": "4b44cf31-1cba-4ac1-bf61-4cd6f90eae67"
   },
   "outputs": [
    {
     "data": {
      "text/html": [
       "<div>\n",
       "<style scoped>\n",
       "    .dataframe tbody tr th:only-of-type {\n",
       "        vertical-align: middle;\n",
       "    }\n",
       "\n",
       "    .dataframe tbody tr th {\n",
       "        vertical-align: top;\n",
       "    }\n",
       "\n",
       "    .dataframe thead th {\n",
       "        text-align: right;\n",
       "    }\n",
       "</style>\n",
       "<table border=\"1\" class=\"dataframe\">\n",
       "  <thead>\n",
       "    <tr style=\"text-align: right;\">\n",
       "      <th></th>\n",
       "      <th>userId</th>\n",
       "      <th>movieId</th>\n",
       "      <th>rating</th>\n",
       "      <th>timestamp</th>\n",
       "      <th>rank_latest</th>\n",
       "    </tr>\n",
       "  </thead>\n",
       "  <tbody>\n",
       "    <tr>\n",
       "      <th>1854</th>\n",
       "      <td>21</td>\n",
       "      <td>249</td>\n",
       "      <td>3.0</td>\n",
       "      <td>1238034395</td>\n",
       "      <td>13.0</td>\n",
       "    </tr>\n",
       "    <tr>\n",
       "      <th>1855</th>\n",
       "      <td>21</td>\n",
       "      <td>599</td>\n",
       "      <td>4.5</td>\n",
       "      <td>1238034497</td>\n",
       "      <td>2.0</td>\n",
       "    </tr>\n",
       "    <tr>\n",
       "      <th>1856</th>\n",
       "      <td>21</td>\n",
       "      <td>922</td>\n",
       "      <td>4.0</td>\n",
       "      <td>1238034378</td>\n",
       "      <td>14.0</td>\n",
       "    </tr>\n",
       "    <tr>\n",
       "      <th>1857</th>\n",
       "      <td>21</td>\n",
       "      <td>930</td>\n",
       "      <td>3.5</td>\n",
       "      <td>1238034413</td>\n",
       "      <td>11.0</td>\n",
       "    </tr>\n",
       "    <tr>\n",
       "      <th>1858</th>\n",
       "      <td>21</td>\n",
       "      <td>1237</td>\n",
       "      <td>4.5</td>\n",
       "      <td>1238034466</td>\n",
       "      <td>5.0</td>\n",
       "    </tr>\n",
       "  </tbody>\n",
       "</table>\n",
       "</div>"
      ],
      "text/plain": [
       "      userId  movieId  rating   timestamp  rank_latest\n",
       "1854      21      249     3.0  1238034395         13.0\n",
       "1855      21      599     4.5  1238034497          2.0\n",
       "1856      21      922     4.0  1238034378         14.0\n",
       "1857      21      930     3.5  1238034413         11.0\n",
       "1858      21     1237     4.5  1238034466          5.0"
      ]
     },
     "execution_count": 20,
     "metadata": {},
     "output_type": "execute_result"
    }
   ],
   "source": [
    "train_ratings.head()"
   ]
  },
  {
   "cell_type": "code",
   "execution_count": 21,
   "metadata": {
    "colab": {
     "base_uri": "https://localhost:8080/",
     "height": 206
    },
    "id": "J6JXKcRtvSkG",
    "outputId": "168ef90d-ddca-4d2d-f2b2-abbf36bc27b7"
   },
   "outputs": [
    {
     "data": {
      "text/html": [
       "<div>\n",
       "<style scoped>\n",
       "    .dataframe tbody tr th:only-of-type {\n",
       "        vertical-align: middle;\n",
       "    }\n",
       "\n",
       "    .dataframe tbody tr th {\n",
       "        vertical-align: top;\n",
       "    }\n",
       "\n",
       "    .dataframe thead th {\n",
       "        text-align: right;\n",
       "    }\n",
       "</style>\n",
       "<table border=\"1\" class=\"dataframe\">\n",
       "  <thead>\n",
       "    <tr style=\"text-align: right;\">\n",
       "      <th></th>\n",
       "      <th>userId</th>\n",
       "      <th>movieId</th>\n",
       "      <th>rating</th>\n",
       "      <th>timestamp</th>\n",
       "      <th>rank_latest</th>\n",
       "    </tr>\n",
       "  </thead>\n",
       "  <tbody>\n",
       "    <tr>\n",
       "      <th>1867</th>\n",
       "      <td>21</td>\n",
       "      <td>46530</td>\n",
       "      <td>3.5</td>\n",
       "      <td>1238034517</td>\n",
       "      <td>1.0</td>\n",
       "    </tr>\n",
       "    <tr>\n",
       "      <th>4588</th>\n",
       "      <td>55</td>\n",
       "      <td>2090</td>\n",
       "      <td>3.0</td>\n",
       "      <td>1059058108</td>\n",
       "      <td>1.0</td>\n",
       "    </tr>\n",
       "    <tr>\n",
       "      <th>7177</th>\n",
       "      <td>76</td>\n",
       "      <td>3979</td>\n",
       "      <td>3.5</td>\n",
       "      <td>1450462960</td>\n",
       "      <td>1.0</td>\n",
       "    </tr>\n",
       "    <tr>\n",
       "      <th>8765</th>\n",
       "      <td>82</td>\n",
       "      <td>1198</td>\n",
       "      <td>4.0</td>\n",
       "      <td>1456498808</td>\n",
       "      <td>1.0</td>\n",
       "    </tr>\n",
       "    <tr>\n",
       "      <th>11768</th>\n",
       "      <td>126</td>\n",
       "      <td>2248</td>\n",
       "      <td>3.0</td>\n",
       "      <td>1294552844</td>\n",
       "      <td>1.0</td>\n",
       "    </tr>\n",
       "  </tbody>\n",
       "</table>\n",
       "</div>"
      ],
      "text/plain": [
       "       userId  movieId  rating   timestamp  rank_latest\n",
       "1867       21    46530     3.5  1238034517          1.0\n",
       "4588       55     2090     3.0  1059058108          1.0\n",
       "7177       76     3979     3.5  1450462960          1.0\n",
       "8765       82     1198     4.0  1456498808          1.0\n",
       "11768     126     2248     3.0  1294552844          1.0"
      ]
     },
     "execution_count": 21,
     "metadata": {},
     "output_type": "execute_result"
    }
   ],
   "source": [
    "test_ratings.head()"
   ]
  },
  {
   "cell_type": "code",
   "execution_count": 22,
   "metadata": {
    "id": "CkU_Jzt8vUsB"
   },
   "outputs": [],
   "source": [
    "# Избавляемся от лишних данных\n",
    "train_ratings = train_ratings[['userId', 'movieId', 'rating']]\n",
    "test_ratings = test_ratings[['userId', 'movieId', 'rating']]"
   ]
  },
  {
   "cell_type": "markdown",
   "metadata": {
    "id": "R5hRW1L3vcaj"
   },
   "source": [
    "Теперь у нас есть разделенные датасеты и можно приступать к оценке модели"
   ]
  },
  {
   "cell_type": "markdown",
   "metadata": {
    "id": "tXK_RECewEDH"
   },
   "source": [
    "Наша задача - предсказать, будет ли пользователь смотреть этот фильм или нет. Поэтому нам нужно изменить целевые значения. Теперь у нас есть только рейтинги (числа от 1 до 5), но нам нужно знать смотрел ли пользователь фильм или нет. Будем считать что если человек смотрел фильм то ставим 1"
   ]
  },
  {
   "cell_type": "code",
   "execution_count": 23,
   "metadata": {
    "colab": {
     "base_uri": "https://localhost:8080/",
     "height": 206
    },
    "id": "lqULzwE0vaeY",
    "outputId": "faf0b2d6-eca7-4565-dd5b-dcc8fccf7b25"
   },
   "outputs": [
    {
     "data": {
      "text/html": [
       "<div>\n",
       "<style scoped>\n",
       "    .dataframe tbody tr th:only-of-type {\n",
       "        vertical-align: middle;\n",
       "    }\n",
       "\n",
       "    .dataframe tbody tr th {\n",
       "        vertical-align: top;\n",
       "    }\n",
       "\n",
       "    .dataframe thead th {\n",
       "        text-align: right;\n",
       "    }\n",
       "</style>\n",
       "<table border=\"1\" class=\"dataframe\">\n",
       "  <thead>\n",
       "    <tr style=\"text-align: right;\">\n",
       "      <th></th>\n",
       "      <th>userId</th>\n",
       "      <th>movieId</th>\n",
       "      <th>rating</th>\n",
       "      <th>target</th>\n",
       "    </tr>\n",
       "  </thead>\n",
       "  <tbody>\n",
       "    <tr>\n",
       "      <th>1854</th>\n",
       "      <td>21</td>\n",
       "      <td>249</td>\n",
       "      <td>3.0</td>\n",
       "      <td>1</td>\n",
       "    </tr>\n",
       "    <tr>\n",
       "      <th>1855</th>\n",
       "      <td>21</td>\n",
       "      <td>599</td>\n",
       "      <td>4.5</td>\n",
       "      <td>1</td>\n",
       "    </tr>\n",
       "    <tr>\n",
       "      <th>1856</th>\n",
       "      <td>21</td>\n",
       "      <td>922</td>\n",
       "      <td>4.0</td>\n",
       "      <td>1</td>\n",
       "    </tr>\n",
       "    <tr>\n",
       "      <th>1857</th>\n",
       "      <td>21</td>\n",
       "      <td>930</td>\n",
       "      <td>3.5</td>\n",
       "      <td>1</td>\n",
       "    </tr>\n",
       "    <tr>\n",
       "      <th>1858</th>\n",
       "      <td>21</td>\n",
       "      <td>1237</td>\n",
       "      <td>4.5</td>\n",
       "      <td>1</td>\n",
       "    </tr>\n",
       "  </tbody>\n",
       "</table>\n",
       "</div>"
      ],
      "text/plain": [
       "      userId  movieId  rating  target\n",
       "1854      21      249     3.0       1\n",
       "1855      21      599     4.5       1\n",
       "1856      21      922     4.0       1\n",
       "1857      21      930     3.5       1\n",
       "1858      21     1237     4.5       1"
      ]
     },
     "execution_count": 23,
     "metadata": {},
     "output_type": "execute_result"
    }
   ],
   "source": [
    "train_ratings['target'] = 1\n",
    "train_ratings.head()"
   ]
  },
  {
   "cell_type": "code",
   "execution_count": 24,
   "metadata": {
    "id": "kaUelfRjxvyY"
   },
   "outputs": [],
   "source": [
    "#получеаем весь список айдишников фильмо\n",
    "all_movieIds = ratings['movieId'].unique()\n",
    "\n",
    "# здесь будут данные для обучения\n",
    "users, items, labels = [], [], []\n",
    "\n",
    "# набор данных с которыми взаимодействуют пользователь\n",
    "user_item_set = set(zip(train_ratings['userId'], train_ratings['movieId']))"
   ]
  },
  {
   "cell_type": "code",
   "execution_count": 25,
   "metadata": {
    "id": "AnQFSqnDzR48"
   },
   "outputs": [],
   "source": [
    "class MovieLensDataset(Dataset):\n",
    "   \n",
    "    def __init__(self, ratings, all_movieIds, train=True):\n",
    "        self.users, self.items, self.labels = self.get_dataset(ratings, all_movieIds, train)\n",
    "\n",
    "    def __len__(self):\n",
    "        return len(self.users)\n",
    "  \n",
    "    def __getitem__(self, idx):\n",
    "        return self.users[idx], self.items[idx], self.labels[idx]\n",
    "\n",
    "    def get_dataset(self, ratings, all_movieIds, train):\n",
    "        users, items, labels = [], [], []\n",
    "        user_item_set = set(zip(ratings['userId'], ratings['movieId']))\n",
    "\n",
    "        num_negatives = 2\n",
    "        for u, i in tqdm(user_item_set):\n",
    "            users.append(u)\n",
    "            items.append(i)\n",
    "            labels.append(1)\n",
    "            if train:\n",
    "              for _ in range(num_negatives):\n",
    "                  negative_item = np.random.choice(all_movieIds)\n",
    "                  while (u, negative_item) in user_item_set:\n",
    "                      negative_item = np.random.choice(all_movieIds)\n",
    "                  users.append(u)\n",
    "                  items.append(negative_item)\n",
    "                  labels.append(0)\n",
    "\n",
    "        return torch.tensor(users), torch.tensor(items), torch.tensor(labels)"
   ]
  },
  {
   "cell_type": "code",
   "execution_count": 26,
   "metadata": {
    "colab": {
     "base_uri": "https://localhost:8080/",
     "height": 66,
     "referenced_widgets": [
      "806e72eb7d3e468cb5b1a9b02e46ad65",
      "35a98168b95d4a43b96565ea694488a5",
      "d750012a96814e48aad6c3742dfdd90e",
      "14c2c783bb55463da533e4f6ffa7a0fb",
      "182a43c72daa46978c41072c5f8455d5",
      "2af83fa5d670443180d08a7a2d5317d9",
      "aced6b2e6f234aa6ba0906cc2f0cacc0",
      "cee6bd431479420480242d8c2fb03fad",
      "b6b7124e58154c70b0432c13dbc65866",
      "dfb0db234e2e4bc39c5c5be526a7c674",
      "59455b338a5f40e6adacad022d982153"
     ]
    },
    "id": "IrZFdtRWJ1Pt",
    "outputId": "e7453354-29d1-493e-8777-11f73f9270e6"
   },
   "outputs": [
    {
     "data": {
      "application/vnd.jupyter.widget-view+json": {
       "model_id": "81bc3eb0d92a4abd9174fbced657b394",
       "version_major": 2,
       "version_minor": 0
      },
      "text/plain": [
       "  0%|          | 0/2749258 [00:00<?, ?it/s]"
      ]
     },
     "metadata": {},
     "output_type": "display_data"
    },
    {
     "data": {
      "text/plain": [
       "<__main__.MovieLensDataset at 0x7f963dacd450>"
      ]
     },
     "execution_count": 26,
     "metadata": {},
     "output_type": "execute_result"
    }
   ],
   "source": [
    "train_dataset = MovieLensDataset(train_ratings, all_movieIds)\n",
    "train_dataset"
   ]
  },
  {
   "cell_type": "code",
   "execution_count": 27,
   "metadata": {
    "colab": {
     "base_uri": "https://localhost:8080/",
     "height": 66,
     "referenced_widgets": [
      "5c16ce6ca6f04f4298813742f651f7f6",
      "015bc806b00d407c980122ee75d0857e",
      "abcc5fe07275469a994b8c4bd9265c7c",
      "38d1881f697b4ea187cacca7a0ff8d38",
      "db50d71dd78f4b9daf7a8b2e9a357934",
      "d1b651dd148d4d0b8d1d842b1b514b07",
      "e968e1bca0bb496e9a62e9b2dc8563ea",
      "762e00d517084acda23c31a7a3abb77f",
      "f939b9cbe05d4aafb2c76e6f47d16b33",
      "5cbf527ef0f140abb5a9befb77eb82f7",
      "9cd2bb2cefbb408885f0376181238bf3"
     ]
    },
    "id": "EUHI15e4KKMW",
    "outputId": "3ec3abf5-9c39-4f14-860e-a16c9f827ee1"
   },
   "outputs": [
    {
     "data": {
      "application/vnd.jupyter.widget-view+json": {
       "model_id": "491f23b8bfdf436c8dc0a9c7a9bc24f2",
       "version_major": 2,
       "version_minor": 0
      },
      "text/plain": [
       "  0%|          | 0/28322 [00:00<?, ?it/s]"
      ]
     },
     "metadata": {},
     "output_type": "display_data"
    },
    {
     "data": {
      "text/plain": [
       "<__main__.MovieLensDataset at 0x7f963dac5890>"
      ]
     },
     "execution_count": 27,
     "metadata": {},
     "output_type": "execute_result"
    }
   ],
   "source": [
    "test_dataset = MovieLensDataset(test_ratings, all_movieIds, train=False)\n",
    "test_dataset"
   ]
  },
  {
   "cell_type": "code",
   "execution_count": 28,
   "metadata": {
    "id": "2RF43uKrLk7y"
   },
   "outputs": [],
   "source": [
    "train_dataloader = DataLoader(train_dataset, batch_size=2048, shuffle=False,\n",
    "                                  num_workers=1)\n",
    "test_dataloader = DataLoader(test_dataset, batch_size=2048, shuffle=False,\n",
    "                                  num_workers=1)"
   ]
  },
  {
   "cell_type": "markdown",
   "metadata": {
    "id": "B33oXTEeCrX4"
   },
   "source": [
    "### Модель"
   ]
  },
  {
   "cell_type": "markdown",
   "metadata": {
    "id": "bQLpoC8Nb6Ee"
   },
   "source": [
    "### Learned Embeddings\n",
    "\n",
    "Мы будем использовать отдельный слой встраивания элементов для представления характеристик элементов (например, фильмов) в пространстве более низкого измерения.\n",
    "\n",
    "С помощью Neural Collaborative Filtering мы можем узнать веса встраиваемого слоя, чтобы он обеспечивал точное представление пользователей и элементов. Используя набор данных рейтингов, мы можем идентифицировать похожих пользователей и фильмы, создавая встраивания пользователей и элементов, извлеченные из существующих рейтингов.\n",
    "\n",
    "\n",
    "### Архитектуа модели\n",
    "\n",
    "Встроенные векторы пользователей и элементов объединяются перед прохождением через серию полноcвязнных слоев, которые отображают конкатенированные embedding слои в вектор предсказания в качестве выходных данных. Наконец, мы применяем функцию «сигмоид», чтобы получить наиболее вероятный класс."
   ]
  },
  {
   "cell_type": "code",
   "execution_count": 29,
   "metadata": {
    "id": "PRo6rAP-AE8i"
   },
   "outputs": [],
   "source": [
    "class NCF(nn.Module):\n",
    "    \n",
    "    def __init__(self, num_users, num_items, ratings, all_movieIds):\n",
    "        super().__init__()\n",
    "        self.user_embedding = nn.Embedding(num_embeddings=num_users, embedding_dim=8)\n",
    "        self.item_embedding = nn.Embedding(num_embeddings=num_items, embedding_dim=8)\n",
    "        self.fc1 = nn.Linear(in_features=16, out_features=64)\n",
    "        self.fc2 = nn.Linear(in_features=64, out_features=32)\n",
    "        self.output = nn.Linear(in_features=32, out_features=1)\n",
    "        self.ratings = ratings\n",
    "        self.all_movieIds = all_movieIds\n",
    "        \n",
    "    def forward(self, user_input, item_input):\n",
    "    \n",
    "        user_embedded = self.user_embedding(user_input)\n",
    "        item_embedded = self.item_embedding(item_input)\n",
    "\n",
    "        # объеденияем слои\n",
    "        vector = torch.cat([user_embedded, item_embedded], dim=-1)\n",
    "\n",
    "        vector = nn.ReLU()(self.fc1(vector))\n",
    "        vector = nn.ReLU()(self.fc2(vector))\n",
    "\n",
    "        pred = nn.Sigmoid()(self.output(vector))\n",
    "\n",
    "        return pred\n",
    "    \n",
    "    def training_step(self, predicted_labels, labels):\n",
    "        predicted_labels = predicted_labels\n",
    "        loss = nn.BCELoss()(predicted_labels, labels.view(-1, 1).float())\n",
    "        return loss\n",
    "\n",
    "    def configure_optimizers(self):\n",
    "        return torch.optim.Adam(self.parameters())"
   ]
  },
  {
   "cell_type": "code",
   "execution_count": 37,
   "metadata": {},
   "outputs": [
    {
     "data": {
      "image/svg+xml": [
       "<?xml version=\"1.0\" encoding=\"UTF-8\" standalone=\"no\"?>\n",
       "<!DOCTYPE svg PUBLIC \"-//W3C//DTD SVG 1.1//EN\"\n",
       " \"http://www.w3.org/Graphics/SVG/1.1/DTD/svg11.dtd\">\n",
       "<!-- Generated by graphviz version 7.1.0 (0)\n",
       " -->\n",
       "<!-- Pages: 1 -->\n",
       "<svg width=\"543pt\" height=\"666pt\"\n",
       " viewBox=\"0.00 0.00 543.00 666.00\" xmlns=\"http://www.w3.org/2000/svg\" xmlns:xlink=\"http://www.w3.org/1999/xlink\">\n",
       "<g id=\"graph0\" class=\"graph\" transform=\"scale(1 1) rotate(0) translate(4 662)\">\n",
       "<polygon fill=\"white\" stroke=\"none\" points=\"-4,4 -4,-662 539,-662 539,4 -4,4\"/>\n",
       "<!-- 140283257672704 -->\n",
       "<g id=\"node1\" class=\"node\">\n",
       "<title>140283257672704</title>\n",
       "<polygon fill=\"#caff70\" stroke=\"black\" points=\"334,-31 275,-31 275,0 334,0 334,-31\"/>\n",
       "<text text-anchor=\"middle\" x=\"304.5\" y=\"-7\" font-family=\"monospace\" font-size=\"10.00\"> (1, 1)</text>\n",
       "</g>\n",
       "<!-- 140282422792864 -->\n",
       "<g id=\"node2\" class=\"node\">\n",
       "<title>140282422792864</title>\n",
       "<polygon fill=\"lightgrey\" stroke=\"black\" points=\"361,-86 248,-86 248,-67 361,-67 361,-86\"/>\n",
       "<text text-anchor=\"middle\" x=\"304.5\" y=\"-74\" font-family=\"monospace\" font-size=\"10.00\">SigmoidBackward0</text>\n",
       "</g>\n",
       "<!-- 140282422792864&#45;&gt;140283257672704 -->\n",
       "<g id=\"edge28\" class=\"edge\">\n",
       "<title>140282422792864&#45;&gt;140283257672704</title>\n",
       "<path fill=\"none\" stroke=\"black\" d=\"M304.5,-66.54C304.5,-60.07 304.5,-50.98 304.5,-42.32\"/>\n",
       "<polygon fill=\"black\" stroke=\"black\" points=\"308,-42.58 304.5,-32.58 301,-42.58 308,-42.58\"/>\n",
       "</g>\n",
       "<!-- 140282422800832 -->\n",
       "<g id=\"node3\" class=\"node\">\n",
       "<title>140282422800832</title>\n",
       "<polygon fill=\"lightgrey\" stroke=\"black\" points=\"355,-141 254,-141 254,-122 355,-122 355,-141\"/>\n",
       "<text text-anchor=\"middle\" x=\"304.5\" y=\"-129\" font-family=\"monospace\" font-size=\"10.00\">AddmmBackward0</text>\n",
       "</g>\n",
       "<!-- 140282422800832&#45;&gt;140282422792864 -->\n",
       "<g id=\"edge1\" class=\"edge\">\n",
       "<title>140282422800832&#45;&gt;140282422792864</title>\n",
       "<path fill=\"none\" stroke=\"black\" d=\"M304.5,-121.75C304.5,-115.27 304.5,-106.16 304.5,-97.9\"/>\n",
       "<polygon fill=\"black\" stroke=\"black\" points=\"308,-97.96 304.5,-87.96 301,-97.96 308,-97.96\"/>\n",
       "</g>\n",
       "<!-- 140282422797568 -->\n",
       "<g id=\"node4\" class=\"node\">\n",
       "<title>140282422797568</title>\n",
       "<polygon fill=\"lightgrey\" stroke=\"black\" points=\"239,-196 138,-196 138,-177 239,-177 239,-196\"/>\n",
       "<text text-anchor=\"middle\" x=\"188.5\" y=\"-184\" font-family=\"monospace\" font-size=\"10.00\">AccumulateGrad</text>\n",
       "</g>\n",
       "<!-- 140282422797568&#45;&gt;140282422800832 -->\n",
       "<g id=\"edge2\" class=\"edge\">\n",
       "<title>140282422797568&#45;&gt;140282422800832</title>\n",
       "<path fill=\"none\" stroke=\"black\" d=\"M208.18,-176.51C226.45,-168.16 253.91,-155.61 274.85,-146.05\"/>\n",
       "<polygon fill=\"black\" stroke=\"black\" points=\"276.1,-149.33 283.74,-141.99 273.19,-142.96 276.1,-149.33\"/>\n",
       "</g>\n",
       "<!-- 140281599414416 -->\n",
       "<g id=\"node5\" class=\"node\">\n",
       "<title>140281599414416</title>\n",
       "<polygon fill=\"lightblue\" stroke=\"black\" points=\"230,-262 147,-262 147,-232 230,-232 230,-262\"/>\n",
       "<text text-anchor=\"middle\" x=\"188.5\" y=\"-250\" font-family=\"monospace\" font-size=\"10.00\">output.bias</text>\n",
       "<text text-anchor=\"middle\" x=\"188.5\" y=\"-239\" font-family=\"monospace\" font-size=\"10.00\"> (1)</text>\n",
       "</g>\n",
       "<!-- 140281599414416&#45;&gt;140282422797568 -->\n",
       "<g id=\"edge3\" class=\"edge\">\n",
       "<title>140281599414416&#45;&gt;140282422797568</title>\n",
       "<path fill=\"none\" stroke=\"black\" d=\"M188.5,-231.54C188.5,-224.34 188.5,-215.53 188.5,-207.68\"/>\n",
       "<polygon fill=\"black\" stroke=\"black\" points=\"192,-207.69 188.5,-197.69 185,-207.69 192,-207.69\"/>\n",
       "</g>\n",
       "<!-- 140282422794544 -->\n",
       "<g id=\"node6\" class=\"node\">\n",
       "<title>140282422794544</title>\n",
       "<polygon fill=\"lightgrey\" stroke=\"black\" points=\"352,-196 257,-196 257,-177 352,-177 352,-196\"/>\n",
       "<text text-anchor=\"middle\" x=\"304.5\" y=\"-184\" font-family=\"monospace\" font-size=\"10.00\">ReluBackward0</text>\n",
       "</g>\n",
       "<!-- 140282422794544&#45;&gt;140282422800832 -->\n",
       "<g id=\"edge4\" class=\"edge\">\n",
       "<title>140282422794544&#45;&gt;140282422800832</title>\n",
       "<path fill=\"none\" stroke=\"black\" d=\"M304.5,-176.75C304.5,-170.27 304.5,-161.16 304.5,-152.9\"/>\n",
       "<polygon fill=\"black\" stroke=\"black\" points=\"308,-152.96 304.5,-142.96 301,-152.96 308,-152.96\"/>\n",
       "</g>\n",
       "<!-- 140282423158016 -->\n",
       "<g id=\"node7\" class=\"node\">\n",
       "<title>140282423158016</title>\n",
       "<polygon fill=\"lightgrey\" stroke=\"black\" points=\"352,-256.5 251,-256.5 251,-237.5 352,-237.5 352,-256.5\"/>\n",
       "<text text-anchor=\"middle\" x=\"301.5\" y=\"-244.5\" font-family=\"monospace\" font-size=\"10.00\">AddmmBackward0</text>\n",
       "</g>\n",
       "<!-- 140282423158016&#45;&gt;140282422794544 -->\n",
       "<g id=\"edge5\" class=\"edge\">\n",
       "<title>140282423158016&#45;&gt;140282422794544</title>\n",
       "<path fill=\"none\" stroke=\"black\" d=\"M301.94,-237.37C302.35,-229.5 302.96,-217.6 303.48,-207.39\"/>\n",
       "<polygon fill=\"black\" stroke=\"black\" points=\"306.96,-207.85 303.98,-197.68 299.97,-207.49 306.96,-207.85\"/>\n",
       "</g>\n",
       "<!-- 140282423150192 -->\n",
       "<g id=\"node8\" class=\"node\">\n",
       "<title>140282423150192</title>\n",
       "<polygon fill=\"lightgrey\" stroke=\"black\" points=\"214,-322.5 113,-322.5 113,-303.5 214,-303.5 214,-322.5\"/>\n",
       "<text text-anchor=\"middle\" x=\"163.5\" y=\"-310.5\" font-family=\"monospace\" font-size=\"10.00\">AccumulateGrad</text>\n",
       "</g>\n",
       "<!-- 140282423150192&#45;&gt;140282423158016 -->\n",
       "<g id=\"edge6\" class=\"edge\">\n",
       "<title>140282423150192&#45;&gt;140282423158016</title>\n",
       "<path fill=\"none\" stroke=\"black\" d=\"M182.69,-303.1C205.86,-292.35 245.08,-274.16 272.08,-261.64\"/>\n",
       "<polygon fill=\"black\" stroke=\"black\" points=\"273.5,-264.84 281.1,-257.46 270.56,-258.49 273.5,-264.84\"/>\n",
       "</g>\n",
       "<!-- 140283256326896 -->\n",
       "<g id=\"node9\" class=\"node\">\n",
       "<title>140283256326896</title>\n",
       "<polygon fill=\"lightblue\" stroke=\"black\" points=\"196,-394 131,-394 131,-364 196,-364 196,-394\"/>\n",
       "<text text-anchor=\"middle\" x=\"163.5\" y=\"-382\" font-family=\"monospace\" font-size=\"10.00\">fc2.bias</text>\n",
       "<text text-anchor=\"middle\" x=\"163.5\" y=\"-371\" font-family=\"monospace\" font-size=\"10.00\"> (32)</text>\n",
       "</g>\n",
       "<!-- 140283256326896&#45;&gt;140282423150192 -->\n",
       "<g id=\"edge7\" class=\"edge\">\n",
       "<title>140283256326896&#45;&gt;140282423150192</title>\n",
       "<path fill=\"none\" stroke=\"black\" d=\"M163.5,-363.8C163.5,-355.09 163.5,-343.81 163.5,-334.18\"/>\n",
       "<polygon fill=\"black\" stroke=\"black\" points=\"167,-334.36 163.5,-324.36 160,-334.36 167,-334.36\"/>\n",
       "</g>\n",
       "<!-- 140282423149088 -->\n",
       "<g id=\"node10\" class=\"node\">\n",
       "<title>140282423149088</title>\n",
       "<polygon fill=\"lightgrey\" stroke=\"black\" points=\"327,-322.5 232,-322.5 232,-303.5 327,-303.5 327,-322.5\"/>\n",
       "<text text-anchor=\"middle\" x=\"279.5\" y=\"-310.5\" font-family=\"monospace\" font-size=\"10.00\">ReluBackward0</text>\n",
       "</g>\n",
       "<!-- 140282423149088&#45;&gt;140282423158016 -->\n",
       "<g id=\"edge8\" class=\"edge\">\n",
       "<title>140282423149088&#45;&gt;140282423158016</title>\n",
       "<path fill=\"none\" stroke=\"black\" d=\"M282.56,-303.1C285.71,-293.93 290.73,-279.34 294.8,-267.48\"/>\n",
       "<polygon fill=\"black\" stroke=\"black\" points=\"298.03,-268.85 297.97,-258.25 291.41,-266.57 298.03,-268.85\"/>\n",
       "</g>\n",
       "<!-- 140282423158112 -->\n",
       "<g id=\"node11\" class=\"node\">\n",
       "<title>140282423158112</title>\n",
       "<polygon fill=\"lightgrey\" stroke=\"black\" points=\"322,-388.5 221,-388.5 221,-369.5 322,-369.5 322,-388.5\"/>\n",
       "<text text-anchor=\"middle\" x=\"271.5\" y=\"-376.5\" font-family=\"monospace\" font-size=\"10.00\">AddmmBackward0</text>\n",
       "</g>\n",
       "<!-- 140282423158112&#45;&gt;140282423149088 -->\n",
       "<g id=\"edge9\" class=\"edge\">\n",
       "<title>140282423158112&#45;&gt;140282423149088</title>\n",
       "<path fill=\"none\" stroke=\"black\" d=\"M272.61,-369.1C273.73,-360.12 275.51,-345.95 276.97,-334.22\"/>\n",
       "<polygon fill=\"black\" stroke=\"black\" points=\"280.44,-334.68 278.21,-324.33 273.5,-333.81 280.44,-334.68\"/>\n",
       "</g>\n",
       "<!-- 140282423153024 -->\n",
       "<g id=\"node12\" class=\"node\">\n",
       "<title>140282423153024</title>\n",
       "<polygon fill=\"lightgrey\" stroke=\"black\" points=\"119,-454.5 18,-454.5 18,-435.5 119,-435.5 119,-454.5\"/>\n",
       "<text text-anchor=\"middle\" x=\"68.5\" y=\"-442.5\" font-family=\"monospace\" font-size=\"10.00\">AccumulateGrad</text>\n",
       "</g>\n",
       "<!-- 140282423153024&#45;&gt;140282423158112 -->\n",
       "<g id=\"edge10\" class=\"edge\">\n",
       "<title>140282423153024&#45;&gt;140282423158112</title>\n",
       "<path fill=\"none\" stroke=\"black\" d=\"M96.73,-435.1C132,-423.98 192.56,-404.89 232.32,-392.35\"/>\n",
       "<polygon fill=\"black\" stroke=\"black\" points=\"233.26,-395.73 241.74,-389.38 231.15,-389.05 233.26,-395.73\"/>\n",
       "</g>\n",
       "<!-- 140283255794144 -->\n",
       "<g id=\"node13\" class=\"node\">\n",
       "<title>140283255794144</title>\n",
       "<polygon fill=\"lightblue\" stroke=\"black\" points=\"65,-526 0,-526 0,-496 65,-496 65,-526\"/>\n",
       "<text text-anchor=\"middle\" x=\"32.5\" y=\"-514\" font-family=\"monospace\" font-size=\"10.00\">fc1.bias</text>\n",
       "<text text-anchor=\"middle\" x=\"32.5\" y=\"-503\" font-family=\"monospace\" font-size=\"10.00\"> (64)</text>\n",
       "</g>\n",
       "<!-- 140283255794144&#45;&gt;140282423153024 -->\n",
       "<g id=\"edge11\" class=\"edge\">\n",
       "<title>140283255794144&#45;&gt;140282423153024</title>\n",
       "<path fill=\"none\" stroke=\"black\" d=\"M40.49,-495.8C45.66,-486.6 52.45,-474.53 58.05,-464.58\"/>\n",
       "<polygon fill=\"black\" stroke=\"black\" points=\"60.93,-466.6 62.78,-456.16 54.83,-463.16 60.93,-466.6\"/>\n",
       "</g>\n",
       "<!-- 140282423158064 -->\n",
       "<g id=\"node14\" class=\"node\">\n",
       "<title>140282423158064</title>\n",
       "<polygon fill=\"lightgrey\" stroke=\"black\" points=\"297,-454.5 208,-454.5 208,-435.5 297,-435.5 297,-454.5\"/>\n",
       "<text text-anchor=\"middle\" x=\"252.5\" y=\"-442.5\" font-family=\"monospace\" font-size=\"10.00\">CatBackward0</text>\n",
       "</g>\n",
       "<!-- 140282423158064&#45;&gt;140282423158112 -->\n",
       "<g id=\"edge12\" class=\"edge\">\n",
       "<title>140282423158064&#45;&gt;140282423158112</title>\n",
       "<path fill=\"none\" stroke=\"black\" d=\"M255.14,-435.1C257.84,-426.03 262.11,-411.64 265.61,-399.85\"/>\n",
       "<polygon fill=\"black\" stroke=\"black\" points=\"268.96,-400.86 268.45,-390.27 262.25,-398.86 268.96,-400.86\"/>\n",
       "</g>\n",
       "<!-- 140282423157872 -->\n",
       "<g id=\"node15\" class=\"node\">\n",
       "<title>140282423157872</title>\n",
       "<polygon fill=\"lightgrey\" stroke=\"black\" points=\"208,-520.5 83,-520.5 83,-501.5 208,-501.5 208,-520.5\"/>\n",
       "<text text-anchor=\"middle\" x=\"145.5\" y=\"-508.5\" font-family=\"monospace\" font-size=\"10.00\">EmbeddingBackward0</text>\n",
       "</g>\n",
       "<!-- 140282423157872&#45;&gt;140282423158064 -->\n",
       "<g id=\"edge13\" class=\"edge\">\n",
       "<title>140282423157872&#45;&gt;140282423158064</title>\n",
       "<path fill=\"none\" stroke=\"black\" d=\"M160.38,-501.1C177.87,-490.64 207.14,-473.13 228,-460.66\"/>\n",
       "<polygon fill=\"black\" stroke=\"black\" points=\"229.66,-463.74 236.45,-455.6 226.07,-457.73 229.66,-463.74\"/>\n",
       "</g>\n",
       "<!-- 140282423150144 -->\n",
       "<g id=\"node16\" class=\"node\">\n",
       "<title>140282423150144</title>\n",
       "<polygon fill=\"lightgrey\" stroke=\"black\" points=\"194,-586.5 93,-586.5 93,-567.5 194,-567.5 194,-586.5\"/>\n",
       "<text text-anchor=\"middle\" x=\"143.5\" y=\"-574.5\" font-family=\"monospace\" font-size=\"10.00\">AccumulateGrad</text>\n",
       "</g>\n",
       "<!-- 140282423150144&#45;&gt;140282423157872 -->\n",
       "<g id=\"edge14\" class=\"edge\">\n",
       "<title>140282423150144&#45;&gt;140282423157872</title>\n",
       "<path fill=\"none\" stroke=\"black\" d=\"M143.78,-567.1C144.06,-558.12 144.5,-543.95 144.87,-532.22\"/>\n",
       "<polygon fill=\"black\" stroke=\"black\" points=\"148.36,-532.44 145.18,-522.34 141.37,-532.22 148.36,-532.44\"/>\n",
       "</g>\n",
       "<!-- 140283314156112 -->\n",
       "<g id=\"node17\" class=\"node\">\n",
       "<title>140283314156112</title>\n",
       "<polygon fill=\"lightblue\" stroke=\"black\" points=\"206,-658 63,-658 63,-628 206,-628 206,-658\"/>\n",
       "<text text-anchor=\"middle\" x=\"134.5\" y=\"-646\" font-family=\"monospace\" font-size=\"10.00\">user_embedding.weight</text>\n",
       "<text text-anchor=\"middle\" x=\"134.5\" y=\"-635\" font-family=\"monospace\" font-size=\"10.00\"> (283194, 8)</text>\n",
       "</g>\n",
       "<!-- 140283314156112&#45;&gt;140282423150144 -->\n",
       "<g id=\"edge15\" class=\"edge\">\n",
       "<title>140283314156112&#45;&gt;140282423150144</title>\n",
       "<path fill=\"none\" stroke=\"black\" d=\"M136.5,-627.8C137.72,-619.09 139.31,-607.81 140.66,-598.18\"/>\n",
       "<polygon fill=\"black\" stroke=\"black\" points=\"144.12,-598.73 142.05,-588.34 137.19,-597.76 144.12,-598.73\"/>\n",
       "</g>\n",
       "<!-- 140282423158256 -->\n",
       "<g id=\"node18\" class=\"node\">\n",
       "<title>140282423158256</title>\n",
       "<polygon fill=\"lightgrey\" stroke=\"black\" points=\"351,-520.5 226,-520.5 226,-501.5 351,-501.5 351,-520.5\"/>\n",
       "<text text-anchor=\"middle\" x=\"288.5\" y=\"-508.5\" font-family=\"monospace\" font-size=\"10.00\">EmbeddingBackward0</text>\n",
       "</g>\n",
       "<!-- 140282423158256&#45;&gt;140282423158064 -->\n",
       "<g id=\"edge16\" class=\"edge\">\n",
       "<title>140282423158256&#45;&gt;140282423158064</title>\n",
       "<path fill=\"none\" stroke=\"black\" d=\"M283.49,-501.1C278.23,-491.74 269.79,-476.73 263.04,-464.74\"/>\n",
       "<polygon fill=\"black\" stroke=\"black\" points=\"266.16,-463.14 258.21,-456.14 260.06,-466.57 266.16,-463.14\"/>\n",
       "</g>\n",
       "<!-- 140282423152256 -->\n",
       "<g id=\"node19\" class=\"node\">\n",
       "<title>140282423152256</title>\n",
       "<polygon fill=\"lightgrey\" stroke=\"black\" points=\"343,-586.5 242,-586.5 242,-567.5 343,-567.5 343,-586.5\"/>\n",
       "<text text-anchor=\"middle\" x=\"292.5\" y=\"-574.5\" font-family=\"monospace\" font-size=\"10.00\">AccumulateGrad</text>\n",
       "</g>\n",
       "<!-- 140282423152256&#45;&gt;140282423158256 -->\n",
       "<g id=\"edge17\" class=\"edge\">\n",
       "<title>140282423152256&#45;&gt;140282423158256</title>\n",
       "<path fill=\"none\" stroke=\"black\" d=\"M291.94,-567.1C291.38,-558.12 290.5,-543.95 289.76,-532.22\"/>\n",
       "<polygon fill=\"black\" stroke=\"black\" points=\"293.26,-532.1 289.15,-522.33 286.28,-532.53 293.26,-532.1\"/>\n",
       "</g>\n",
       "<!-- 140283256423120 -->\n",
       "<g id=\"node20\" class=\"node\">\n",
       "<title>140283256423120</title>\n",
       "<polygon fill=\"lightblue\" stroke=\"black\" points=\"367,-658 224,-658 224,-628 367,-628 367,-658\"/>\n",
       "<text text-anchor=\"middle\" x=\"295.5\" y=\"-646\" font-family=\"monospace\" font-size=\"10.00\">item_embedding.weight</text>\n",
       "<text text-anchor=\"middle\" x=\"295.5\" y=\"-635\" font-family=\"monospace\" font-size=\"10.00\"> (193840, 8)</text>\n",
       "</g>\n",
       "<!-- 140283256423120&#45;&gt;140282423152256 -->\n",
       "<g id=\"edge18\" class=\"edge\">\n",
       "<title>140283256423120&#45;&gt;140282423152256</title>\n",
       "<path fill=\"none\" stroke=\"black\" d=\"M294.83,-627.8C294.43,-619.09 293.9,-607.81 293.45,-598.18\"/>\n",
       "<polygon fill=\"black\" stroke=\"black\" points=\"296.95,-598.18 292.99,-588.36 289.96,-598.51 296.95,-598.18\"/>\n",
       "</g>\n",
       "<!-- 140282423150384 -->\n",
       "<g id=\"node21\" class=\"node\">\n",
       "<title>140282423150384</title>\n",
       "<polygon fill=\"lightgrey\" stroke=\"black\" points=\"392,-454.5 315,-454.5 315,-435.5 392,-435.5 392,-454.5\"/>\n",
       "<text text-anchor=\"middle\" x=\"353.5\" y=\"-442.5\" font-family=\"monospace\" font-size=\"10.00\">TBackward0</text>\n",
       "</g>\n",
       "<!-- 140282423150384&#45;&gt;140282423158112 -->\n",
       "<g id=\"edge19\" class=\"edge\">\n",
       "<title>140282423150384&#45;&gt;140282423158112</title>\n",
       "<path fill=\"none\" stroke=\"black\" d=\"M342.1,-435.1C329.12,-424.98 307.68,-408.24 291.83,-395.87\"/>\n",
       "<polygon fill=\"black\" stroke=\"black\" points=\"294.03,-393.15 284,-389.75 289.73,-398.67 294.03,-393.15\"/>\n",
       "</g>\n",
       "<!-- 140282423152400 -->\n",
       "<g id=\"node22\" class=\"node\">\n",
       "<title>140282423152400</title>\n",
       "<polygon fill=\"lightgrey\" stroke=\"black\" points=\"470,-520.5 369,-520.5 369,-501.5 470,-501.5 470,-520.5\"/>\n",
       "<text text-anchor=\"middle\" x=\"419.5\" y=\"-508.5\" font-family=\"monospace\" font-size=\"10.00\">AccumulateGrad</text>\n",
       "</g>\n",
       "<!-- 140282423152400&#45;&gt;140282423150384 -->\n",
       "<g id=\"edge20\" class=\"edge\">\n",
       "<title>140282423152400&#45;&gt;140282423150384</title>\n",
       "<path fill=\"none\" stroke=\"black\" d=\"M410.32,-501.1C400.08,-491.17 383.27,-474.87 370.59,-462.57\"/>\n",
       "<polygon fill=\"black\" stroke=\"black\" points=\"373.3,-460.33 363.69,-455.88 368.43,-465.35 373.3,-460.33\"/>\n",
       "</g>\n",
       "<!-- 140283254670672 -->\n",
       "<g id=\"node23\" class=\"node\">\n",
       "<title>140283254670672</title>\n",
       "<polygon fill=\"lightblue\" stroke=\"black\" points=\"458,-592 381,-592 381,-562 458,-562 458,-592\"/>\n",
       "<text text-anchor=\"middle\" x=\"419.5\" y=\"-580\" font-family=\"monospace\" font-size=\"10.00\">fc1.weight</text>\n",
       "<text text-anchor=\"middle\" x=\"419.5\" y=\"-569\" font-family=\"monospace\" font-size=\"10.00\"> (64, 16)</text>\n",
       "</g>\n",
       "<!-- 140283254670672&#45;&gt;140282423152400 -->\n",
       "<g id=\"edge21\" class=\"edge\">\n",
       "<title>140283254670672&#45;&gt;140282423152400</title>\n",
       "<path fill=\"none\" stroke=\"black\" d=\"M419.5,-561.8C419.5,-553.09 419.5,-541.81 419.5,-532.18\"/>\n",
       "<polygon fill=\"black\" stroke=\"black\" points=\"423,-532.36 419.5,-522.36 416,-532.36 423,-532.36\"/>\n",
       "</g>\n",
       "<!-- 140282423152688 -->\n",
       "<g id=\"node24\" class=\"node\">\n",
       "<title>140282423152688</title>\n",
       "<polygon fill=\"lightgrey\" stroke=\"black\" points=\"422,-322.5 345,-322.5 345,-303.5 422,-303.5 422,-322.5\"/>\n",
       "<text text-anchor=\"middle\" x=\"383.5\" y=\"-310.5\" font-family=\"monospace\" font-size=\"10.00\">TBackward0</text>\n",
       "</g>\n",
       "<!-- 140282423152688&#45;&gt;140282423158016 -->\n",
       "<g id=\"edge22\" class=\"edge\">\n",
       "<title>140282423152688&#45;&gt;140282423158016</title>\n",
       "<path fill=\"none\" stroke=\"black\" d=\"M372.1,-303.1C359.12,-292.98 337.68,-276.24 321.83,-263.87\"/>\n",
       "<polygon fill=\"black\" stroke=\"black\" points=\"324.03,-261.15 314,-257.75 319.73,-266.67 324.03,-261.15\"/>\n",
       "</g>\n",
       "<!-- 140282423152304 -->\n",
       "<g id=\"node25\" class=\"node\">\n",
       "<title>140282423152304</title>\n",
       "<polygon fill=\"lightgrey\" stroke=\"black\" points=\"479,-388.5 378,-388.5 378,-369.5 479,-369.5 479,-388.5\"/>\n",
       "<text text-anchor=\"middle\" x=\"428.5\" y=\"-376.5\" font-family=\"monospace\" font-size=\"10.00\">AccumulateGrad</text>\n",
       "</g>\n",
       "<!-- 140282423152304&#45;&gt;140282423152688 -->\n",
       "<g id=\"edge23\" class=\"edge\">\n",
       "<title>140282423152304&#45;&gt;140282423152688</title>\n",
       "<path fill=\"none\" stroke=\"black\" d=\"M422.24,-369.1C415.53,-359.55 404.67,-344.11 396.16,-332.01\"/>\n",
       "<polygon fill=\"black\" stroke=\"black\" points=\"399.19,-330.23 390.57,-324.06 393.46,-334.25 399.19,-330.23\"/>\n",
       "</g>\n",
       "<!-- 140281960684016 -->\n",
       "<g id=\"node26\" class=\"node\">\n",
       "<title>140281960684016</title>\n",
       "<polygon fill=\"lightblue\" stroke=\"black\" points=\"487,-460 410,-460 410,-430 487,-430 487,-460\"/>\n",
       "<text text-anchor=\"middle\" x=\"448.5\" y=\"-448\" font-family=\"monospace\" font-size=\"10.00\">fc2.weight</text>\n",
       "<text text-anchor=\"middle\" x=\"448.5\" y=\"-437\" font-family=\"monospace\" font-size=\"10.00\"> (32, 64)</text>\n",
       "</g>\n",
       "<!-- 140281960684016&#45;&gt;140282423152304 -->\n",
       "<g id=\"edge24\" class=\"edge\">\n",
       "<title>140281960684016&#45;&gt;140282423152304</title>\n",
       "<path fill=\"none\" stroke=\"black\" d=\"M444.06,-429.8C441.28,-420.89 437.66,-409.3 434.61,-399.54\"/>\n",
       "<polygon fill=\"black\" stroke=\"black\" points=\"438.04,-398.79 431.72,-390.29 431.36,-400.88 438.04,-398.79\"/>\n",
       "</g>\n",
       "<!-- 140282422799440 -->\n",
       "<g id=\"node27\" class=\"node\">\n",
       "<title>140282422799440</title>\n",
       "<polygon fill=\"lightgrey\" stroke=\"black\" points=\"475,-196 398,-196 398,-177 475,-177 475,-196\"/>\n",
       "<text text-anchor=\"middle\" x=\"436.5\" y=\"-184\" font-family=\"monospace\" font-size=\"10.00\">TBackward0</text>\n",
       "</g>\n",
       "<!-- 140282422799440&#45;&gt;140282422800832 -->\n",
       "<g id=\"edge25\" class=\"edge\">\n",
       "<title>140282422799440&#45;&gt;140282422800832</title>\n",
       "<path fill=\"none\" stroke=\"black\" d=\"M414.11,-176.51C392.93,-168.01 360.91,-155.15 336.94,-145.53\"/>\n",
       "<polygon fill=\"black\" stroke=\"black\" points=\"338.55,-142.4 327.97,-141.92 335.94,-148.9 338.55,-142.4\"/>\n",
       "</g>\n",
       "<!-- 140282423152592 -->\n",
       "<g id=\"node28\" class=\"node\">\n",
       "<title>140282423152592</title>\n",
       "<polygon fill=\"lightgrey\" stroke=\"black\" points=\"515,-256.5 414,-256.5 414,-237.5 515,-237.5 515,-256.5\"/>\n",
       "<text text-anchor=\"middle\" x=\"464.5\" y=\"-244.5\" font-family=\"monospace\" font-size=\"10.00\">AccumulateGrad</text>\n",
       "</g>\n",
       "<!-- 140282423152592&#45;&gt;140282422799440 -->\n",
       "<g id=\"edge26\" class=\"edge\">\n",
       "<title>140282423152592&#45;&gt;140282422799440</title>\n",
       "<path fill=\"none\" stroke=\"black\" d=\"M460.37,-237.37C456.48,-229.25 450.53,-216.81 445.54,-206.39\"/>\n",
       "<polygon fill=\"black\" stroke=\"black\" points=\"448.78,-205.04 441.3,-197.53 442.46,-208.06 448.78,-205.04\"/>\n",
       "</g>\n",
       "<!-- 140281599411696 -->\n",
       "<g id=\"node29\" class=\"node\">\n",
       "<title>140281599411696</title>\n",
       "<polygon fill=\"lightblue\" stroke=\"black\" points=\"535,-328 440,-328 440,-298 535,-298 535,-328\"/>\n",
       "<text text-anchor=\"middle\" x=\"487.5\" y=\"-316\" font-family=\"monospace\" font-size=\"10.00\">output.weight</text>\n",
       "<text text-anchor=\"middle\" x=\"487.5\" y=\"-305\" font-family=\"monospace\" font-size=\"10.00\"> (1, 32)</text>\n",
       "</g>\n",
       "<!-- 140281599411696&#45;&gt;140282423152592 -->\n",
       "<g id=\"edge27\" class=\"edge\">\n",
       "<title>140281599411696&#45;&gt;140282423152592</title>\n",
       "<path fill=\"none\" stroke=\"black\" d=\"M482.4,-297.8C479.2,-288.89 475.03,-277.3 471.52,-267.54\"/>\n",
       "<polygon fill=\"black\" stroke=\"black\" points=\"474.87,-266.5 468.19,-258.27 468.28,-268.86 474.87,-266.5\"/>\n",
       "</g>\n",
       "</g>\n",
       "</svg>\n"
      ],
      "text/plain": [
       "<graphviz.graphs.Digraph at 0x7f963f6bc7d0>"
      ]
     },
     "execution_count": 37,
     "metadata": {},
     "output_type": "execute_result"
    }
   ],
   "source": [
    "from torchviz import make_dot\n",
    "\n",
    "model = NCF(num_users, num_items, ratings, all_movieIds)\n",
    "x = (torch.zeros(1, dtype=torch.long), torch.zeros(1, dtype=torch.long))\n",
    "make_dot(model(*x), params=dict(model.named_parameters()))"
   ]
  },
  {
   "cell_type": "code",
   "execution_count": 32,
   "metadata": {
    "id": "BdRITpTsGlUo"
   },
   "outputs": [],
   "source": [
    "def train_nn(net, num_epochs, train, test, metric=f1_score):\n",
    "  f1_vals = []\n",
    "  epochs = []\n",
    "  optimizer = net.configure_optimizers()\n",
    "\n",
    "  for epoch in tqdm(range(num_epochs)):\n",
    "\n",
    "    for batch in tqdm(train):\n",
    "        users_train, movies_train, labels_train = batch\n",
    "        optimizer.zero_grad()\n",
    "\n",
    "        preds = net.forward(users_train, movies_train)\n",
    "\n",
    "        loss_value = net.training_step(preds, labels_train)\n",
    "        loss_value.backward()\n",
    "        optimizer.step()\n",
    "\n",
    "    if epoch % 1 == 0:\n",
    "        predicted_films = []\n",
    "        all_test_labels = [] \n",
    "        with torch.no_grad():\n",
    "            net.eval()\n",
    "            for batch in test:\n",
    "                users_test, movies_test, labels_test = batch\n",
    "\n",
    "                test_preds = net.forward(users_test, movies_test)\n",
    "                \n",
    "                predicted_films.append(test_preds)\n",
    "                all_test_labels.append(labels_test)\n",
    "\n",
    "        all_test_labels = torch.cat(all_test_labels).detach().numpy()\n",
    "        predicted_films = torch.cat(predicted_films).round().detach().numpy()\n",
    "        F1 = metric(all_test_labels, predicted_films)\n",
    "        print(f\"epoch:{epoch}, F1 test: {F1}\")\n"
   ]
  },
  {
   "cell_type": "code",
   "execution_count": 33,
   "metadata": {
    "id": "ZJpaTbQxEAgg"
   },
   "outputs": [],
   "source": [
    "num_users = ratings['userId'].max()+1\n",
    "num_items = ratings['movieId'].max()+1\n",
    "\n",
    "all_movieIds = ratings['movieId'].unique()\n",
    "\n",
    "model = NCF(num_users, num_items, train_ratings, all_movieIds)"
   ]
  },
  {
   "cell_type": "code",
   "execution_count": 34,
   "metadata": {
    "colab": {
     "base_uri": "https://localhost:8080/"
    },
    "id": "ej9oIkhlCE5Z",
    "outputId": "96dd5dce-a206-44a6-f398-59002f1192e6"
   },
   "outputs": [
    {
     "data": {
      "text/plain": [
       "tensor([], size=(0, 4), grad_fn=<EmbeddingBackward0>)"
      ]
     },
     "execution_count": 34,
     "metadata": {},
     "output_type": "execute_result"
    }
   ],
   "source": [
    "emb = nn.Embedding(num_embeddings=num_users, embedding_dim=4)\n",
    "emb_t = emb(torch.tensor(users).to(torch.int64))\n",
    "emb_t"
   ]
  },
  {
   "cell_type": "code",
   "execution_count": 35,
   "metadata": {
    "colab": {
     "base_uri": "https://localhost:8080/"
    },
    "id": "LGnAJh3dFUPy",
    "outputId": "bbd9ceff-fd90-4c38-f7d0-7808ee7c0536"
   },
   "outputs": [
    {
     "data": {
      "text/plain": [
       "torch.Size([0, 4])"
      ]
     },
     "execution_count": 35,
     "metadata": {},
     "output_type": "execute_result"
    }
   ],
   "source": [
    "emb_t.shape"
   ]
  },
  {
   "cell_type": "code",
   "execution_count": 36,
   "metadata": {
    "colab": {
     "base_uri": "https://localhost:8080/",
     "height": 98,
     "referenced_widgets": [
      "c46504338fa04627ab6a6c91b1ebc13c",
      "d615003ac76d4e0399af9e47df171eb7",
      "eb4f8bbcee6b4e6f8acc21b87c638ce8",
      "1c6fd40a160a401685147ab88009c076",
      "efe519fd16e14b328da591f6fe096682",
      "1a26e8a25bb247ecae8812a0c8a734d8",
      "661e3d04eb1844cc8e9032a4ad5faf64",
      "29bd3f08a8b647aa888ce15ca6e92cdf",
      "efa997eb0db14239a5fd04b4c774df8e",
      "4ae9bd3b156e46c08f933cd0f65835f1",
      "f3c46546ece949b7860a96e275bcfa03",
      "9e719f4e87e14a9eba43c740f3492b15",
      "d78a91dbd8ce4743ba535f87f0d3a924",
      "cbd6561e13a84891acd36062231d789e",
      "e45010af0bb04b86a2896828caaa3e99",
      "13c692a4ee78475290dc57870f23f9ac",
      "dd8e0f3c5d1a424a97e3a22a2d4a3369",
      "2d6706c943ff49fb86c8dd81908ef613",
      "0a18cac4940e4f0aad79b9fa2e1d4e5e",
      "837b22f2aecc40cf96a1eb8dbe1e1761",
      "b26a0704975d481c95adc686ca072736",
      "b285370cddf4476eb1320614c0cd61b4"
     ]
    },
    "id": "6RQZAwCmQdWB",
    "outputId": "8066befa-8fa5-41ce-8ed4-9576f56f5f77"
   },
   "outputs": [
    {
     "data": {
      "application/vnd.jupyter.widget-view+json": {
       "model_id": "5e9dc7f5207b44fab14a69e5b1199067",
       "version_major": 2,
       "version_minor": 0
      },
      "text/plain": [
       "  0%|          | 0/1 [00:00<?, ?it/s]"
      ]
     },
     "metadata": {},
     "output_type": "display_data"
    },
    {
     "data": {
      "application/vnd.jupyter.widget-view+json": {
       "model_id": "1740673a0246443fa0e741e832ee8300",
       "version_major": 2,
       "version_minor": 0
      },
      "text/plain": [
       "  0%|          | 0/4028 [00:00<?, ?it/s]"
      ]
     },
     "metadata": {},
     "output_type": "display_data"
    },
    {
     "name": "stdout",
     "output_type": "stream",
     "text": [
      "epoch:0, F1 test: 0.9070350789179176\n"
     ]
    }
   ],
   "source": [
    "train_nn(model, 1, train_dataloader, test_dataloader)"
   ]
  },
  {
   "cell_type": "markdown",
   "metadata": {
    "id": "b770pLbbae-x"
   },
   "source": [
    "### Оценка модели\n",
    "\n",
    "Теперь, когда наша модель обучена, мы готовы оценить ее, используя тестовые данные. В традиционных проектах машинного обучения мы оцениваем наши модели с использованием таких показателей, как точность (для задач классификации) и RMSE (для задач регрессии). Однако такие показатели слишком упрощены для оценки рекомендательных систем.\n",
    "\n",
    "Ключевым моментом здесь является то, что нам не нужно, чтобы пользователь взаимодействовал с каждым отдельным элементом в списке рекомендаций. Вместо этого нам просто нужно, чтобы пользователь взаимодействовал хотя бы с одним элементом в списке — до тех пор, пока пользователь делает это,\n",
    "рекомендации сработали.\n",
    "\n",
    "Чтобы имитировать это, сделаем следующее\n",
    "* Для каждого пользователя случайным образом берем 99 элементов, с которыми пользователь не взаимодействовал\n",
    "* Объединяем эти 99 элементов с тестовым элементом (фактический элемент, с которым взаимодействовал пользователь). Теперь у нас есть 100 предметов.\n",
    "* Запускаем модель на этих 100 элементах и сортируем их в соответствии с их предсказанными вероятностями.\n",
    "* берем 10 лучших элементов из списка 100 элементов.\n",
    "Если тестовый элемент присутствует в топ-10, то мы говорим, что это попадание.\n",
    "* Повторяем для все х пользователей. Коэффициент попаданий — это среднее количество попаданий.\n",
    "\n",
    "Этот протокол оценки известен как Hit Ratio @ 10 и обычно используется для оценки рекомендательных систем."
   ]
  },
  {
   "cell_type": "code",
   "execution_count": 38,
   "metadata": {
    "colab": {
     "base_uri": "https://localhost:8080/",
     "height": 66,
     "referenced_widgets": [
      "9026e87d6dc64af38657bca0c4bfa95e",
      "c32d1fd0badd4a5bba54969ded09369e",
      "513a57d9625e421eb006563699346f75",
      "38c295dfd4324963ad950813e6ebe7c2",
      "9cd633cbf53f4a05aec8b3f12c973a08",
      "f2d2953ce49842c8885e4a47eb5d9731",
      "751273a82f344b968e0500cda17d1ce9",
      "084ce0aa24c84e92ab7dfc33fec39703",
      "c18964b2d0a746d28733942dc89e441b",
      "592acd6ba6aa4f0883647ac90c0a1355",
      "03ef8776fe604e1bb86cd958d07d2e9e"
     ]
    },
    "id": "DBxeGB7QEaiY",
    "outputId": "6bc1499f-aac5-4d86-93b5-fbddeeab5958"
   },
   "outputs": [
    {
     "data": {
      "application/vnd.jupyter.widget-view+json": {
       "model_id": "e81bd211581f46d4bb984bdd5a0f7939",
       "version_major": 2,
       "version_minor": 0
      },
      "text/plain": [
       "  0%|          | 0/28322 [00:00<?, ?it/s]"
      ]
     },
     "metadata": {},
     "output_type": "display_data"
    },
    {
     "name": "stdout",
     "output_type": "stream",
     "text": [
      "The Hit Ratio @ 10 is 0.10\n"
     ]
    }
   ],
   "source": [
    "# пары пользователь элемент для теста\n",
    "test_user_item_set = set(zip(test_ratings['userId'], test_ratings['movieId']))\n",
    "user_interacted_items = ratings.groupby('userId')['movieId'].apply(list).to_dict()\n",
    "\n",
    "hits = []\n",
    "for (u,i) in tqdm(test_user_item_set):\n",
    "    interacted_items = user_interacted_items[u]\n",
    "    not_interacted_items = set(all_movieIds) - set(interacted_items)\n",
    "    selected_not_interacted = list(np.random.choice(list(not_interacted_items), 99))\n",
    "    test_items = selected_not_interacted + [i]\n",
    "    \n",
    "    predicted_labels = np.squeeze(model(torch.tensor([u]*100), \n",
    "                                        torch.tensor(test_items)).detach().numpy())\n",
    "    \n",
    "    top10_items = [test_items[i] for i in np.argsort(predicted_labels)[::-1][0:10].tolist()]\n",
    "    \n",
    "    if i in top10_items:\n",
    "        hits.append(1)\n",
    "    else:\n",
    "        hits.append(0)\n",
    "top10_items        \n",
    "print(\"The Hit Ratio @ 10 is {:.2f}\".format(np.average(hits)))"
   ]
  },
  {
   "cell_type": "code",
   "execution_count": 40,
   "metadata": {},
   "outputs": [
    {
     "data": {
      "text/plain": [
       "[76832, 60471, 50615, 7944, 7160, 128914, 414, 147234, 169778, 63629]"
      ]
     },
     "execution_count": 40,
     "metadata": {},
     "output_type": "execute_result"
    }
   ],
   "source": [
    "top10_items"
   ]
  },
  {
   "cell_type": "code",
   "execution_count": null,
   "metadata": {},
   "outputs": [],
   "source": []
  },
  {
   "cell_type": "code",
   "execution_count": null,
   "metadata": {},
   "outputs": [],
   "source": []
  },
  {
   "cell_type": "code",
   "execution_count": null,
   "metadata": {},
   "outputs": [],
   "source": []
  }
 ],
 "metadata": {
  "accelerator": "GPU",
  "colab": {
   "authorship_tag": "ABX9TyOv62Waq7cuuFWKdUJXDGZq",
   "collapsed_sections": [
    "czH8SXDdMo8f"
   ],
   "gpuType": "T4",
   "include_colab_link": true,
   "provenance": [],
   "toc_visible": true
  },
  "gpuClass": "standard",
  "kernelspec": {
   "display_name": "Python 3 (ipykernel)",
   "language": "python",
   "name": "python3"
  },
  "language_info": {
   "codemirror_mode": {
    "name": "ipython",
    "version": 3
   },
   "file_extension": ".py",
   "mimetype": "text/x-python",
   "name": "python",
   "nbconvert_exporter": "python",
   "pygments_lexer": "ipython3",
   "version": "3.11.6"
  },
  "widgets": {
   "application/vnd.jupyter.widget-state+json": {
    "015bc806b00d407c980122ee75d0857e": {
     "model_module": "@jupyter-widgets/controls",
     "model_module_version": "1.5.0",
     "model_name": "HTMLModel",
     "state": {
      "_dom_classes": [],
      "_model_module": "@jupyter-widgets/controls",
      "_model_module_version": "1.5.0",
      "_model_name": "HTMLModel",
      "_view_count": null,
      "_view_module": "@jupyter-widgets/controls",
      "_view_module_version": "1.5.0",
      "_view_name": "HTMLView",
      "description": "",
      "description_tooltip": null,
      "layout": "IPY_MODEL_d1b651dd148d4d0b8d1d842b1b514b07",
      "placeholder": "​",
      "style": "IPY_MODEL_e968e1bca0bb496e9a62e9b2dc8563ea",
      "value": "100%"
     }
    },
    "03ef8776fe604e1bb86cd958d07d2e9e": {
     "model_module": "@jupyter-widgets/controls",
     "model_module_version": "1.5.0",
     "model_name": "DescriptionStyleModel",
     "state": {
      "_model_module": "@jupyter-widgets/controls",
      "_model_module_version": "1.5.0",
      "_model_name": "DescriptionStyleModel",
      "_view_count": null,
      "_view_module": "@jupyter-widgets/base",
      "_view_module_version": "1.2.0",
      "_view_name": "StyleView",
      "description_width": ""
     }
    },
    "084ce0aa24c84e92ab7dfc33fec39703": {
     "model_module": "@jupyter-widgets/base",
     "model_module_version": "1.2.0",
     "model_name": "LayoutModel",
     "state": {
      "_model_module": "@jupyter-widgets/base",
      "_model_module_version": "1.2.0",
      "_model_name": "LayoutModel",
      "_view_count": null,
      "_view_module": "@jupyter-widgets/base",
      "_view_module_version": "1.2.0",
      "_view_name": "LayoutView",
      "align_content": null,
      "align_items": null,
      "align_self": null,
      "border": null,
      "bottom": null,
      "display": null,
      "flex": null,
      "flex_flow": null,
      "grid_area": null,
      "grid_auto_columns": null,
      "grid_auto_flow": null,
      "grid_auto_rows": null,
      "grid_column": null,
      "grid_gap": null,
      "grid_row": null,
      "grid_template_areas": null,
      "grid_template_columns": null,
      "grid_template_rows": null,
      "height": null,
      "justify_content": null,
      "justify_items": null,
      "left": null,
      "margin": null,
      "max_height": null,
      "max_width": null,
      "min_height": null,
      "min_width": null,
      "object_fit": null,
      "object_position": null,
      "order": null,
      "overflow": null,
      "overflow_x": null,
      "overflow_y": null,
      "padding": null,
      "right": null,
      "top": null,
      "visibility": null,
      "width": null
     }
    },
    "0a18cac4940e4f0aad79b9fa2e1d4e5e": {
     "model_module": "@jupyter-widgets/base",
     "model_module_version": "1.2.0",
     "model_name": "LayoutModel",
     "state": {
      "_model_module": "@jupyter-widgets/base",
      "_model_module_version": "1.2.0",
      "_model_name": "LayoutModel",
      "_view_count": null,
      "_view_module": "@jupyter-widgets/base",
      "_view_module_version": "1.2.0",
      "_view_name": "LayoutView",
      "align_content": null,
      "align_items": null,
      "align_self": null,
      "border": null,
      "bottom": null,
      "display": null,
      "flex": null,
      "flex_flow": null,
      "grid_area": null,
      "grid_auto_columns": null,
      "grid_auto_flow": null,
      "grid_auto_rows": null,
      "grid_column": null,
      "grid_gap": null,
      "grid_row": null,
      "grid_template_areas": null,
      "grid_template_columns": null,
      "grid_template_rows": null,
      "height": null,
      "justify_content": null,
      "justify_items": null,
      "left": null,
      "margin": null,
      "max_height": null,
      "max_width": null,
      "min_height": null,
      "min_width": null,
      "object_fit": null,
      "object_position": null,
      "order": null,
      "overflow": null,
      "overflow_x": null,
      "overflow_y": null,
      "padding": null,
      "right": null,
      "top": null,
      "visibility": null,
      "width": null
     }
    },
    "13c692a4ee78475290dc57870f23f9ac": {
     "model_module": "@jupyter-widgets/base",
     "model_module_version": "1.2.0",
     "model_name": "LayoutModel",
     "state": {
      "_model_module": "@jupyter-widgets/base",
      "_model_module_version": "1.2.0",
      "_model_name": "LayoutModel",
      "_view_count": null,
      "_view_module": "@jupyter-widgets/base",
      "_view_module_version": "1.2.0",
      "_view_name": "LayoutView",
      "align_content": null,
      "align_items": null,
      "align_self": null,
      "border": null,
      "bottom": null,
      "display": null,
      "flex": null,
      "flex_flow": null,
      "grid_area": null,
      "grid_auto_columns": null,
      "grid_auto_flow": null,
      "grid_auto_rows": null,
      "grid_column": null,
      "grid_gap": null,
      "grid_row": null,
      "grid_template_areas": null,
      "grid_template_columns": null,
      "grid_template_rows": null,
      "height": null,
      "justify_content": null,
      "justify_items": null,
      "left": null,
      "margin": null,
      "max_height": null,
      "max_width": null,
      "min_height": null,
      "min_width": null,
      "object_fit": null,
      "object_position": null,
      "order": null,
      "overflow": null,
      "overflow_x": null,
      "overflow_y": null,
      "padding": null,
      "right": null,
      "top": null,
      "visibility": null,
      "width": null
     }
    },
    "14c2c783bb55463da533e4f6ffa7a0fb": {
     "model_module": "@jupyter-widgets/controls",
     "model_module_version": "1.5.0",
     "model_name": "HTMLModel",
     "state": {
      "_dom_classes": [],
      "_model_module": "@jupyter-widgets/controls",
      "_model_module_version": "1.5.0",
      "_model_name": "HTMLModel",
      "_view_count": null,
      "_view_module": "@jupyter-widgets/controls",
      "_view_module_version": "1.5.0",
      "_view_name": "HTMLView",
      "description": "",
      "description_tooltip": null,
      "layout": "IPY_MODEL_dfb0db234e2e4bc39c5c5be526a7c674",
      "placeholder": "​",
      "style": "IPY_MODEL_59455b338a5f40e6adacad022d982153",
      "value": " 2810377/2810377 [01:55&lt;00:00, 25024.81it/s]"
     }
    },
    "182a43c72daa46978c41072c5f8455d5": {
     "model_module": "@jupyter-widgets/base",
     "model_module_version": "1.2.0",
     "model_name": "LayoutModel",
     "state": {
      "_model_module": "@jupyter-widgets/base",
      "_model_module_version": "1.2.0",
      "_model_name": "LayoutModel",
      "_view_count": null,
      "_view_module": "@jupyter-widgets/base",
      "_view_module_version": "1.2.0",
      "_view_name": "LayoutView",
      "align_content": null,
      "align_items": null,
      "align_self": null,
      "border": null,
      "bottom": null,
      "display": null,
      "flex": null,
      "flex_flow": null,
      "grid_area": null,
      "grid_auto_columns": null,
      "grid_auto_flow": null,
      "grid_auto_rows": null,
      "grid_column": null,
      "grid_gap": null,
      "grid_row": null,
      "grid_template_areas": null,
      "grid_template_columns": null,
      "grid_template_rows": null,
      "height": null,
      "justify_content": null,
      "justify_items": null,
      "left": null,
      "margin": null,
      "max_height": null,
      "max_width": null,
      "min_height": null,
      "min_width": null,
      "object_fit": null,
      "object_position": null,
      "order": null,
      "overflow": null,
      "overflow_x": null,
      "overflow_y": null,
      "padding": null,
      "right": null,
      "top": null,
      "visibility": null,
      "width": null
     }
    },
    "1a26e8a25bb247ecae8812a0c8a734d8": {
     "model_module": "@jupyter-widgets/base",
     "model_module_version": "1.2.0",
     "model_name": "LayoutModel",
     "state": {
      "_model_module": "@jupyter-widgets/base",
      "_model_module_version": "1.2.0",
      "_model_name": "LayoutModel",
      "_view_count": null,
      "_view_module": "@jupyter-widgets/base",
      "_view_module_version": "1.2.0",
      "_view_name": "LayoutView",
      "align_content": null,
      "align_items": null,
      "align_self": null,
      "border": null,
      "bottom": null,
      "display": null,
      "flex": null,
      "flex_flow": null,
      "grid_area": null,
      "grid_auto_columns": null,
      "grid_auto_flow": null,
      "grid_auto_rows": null,
      "grid_column": null,
      "grid_gap": null,
      "grid_row": null,
      "grid_template_areas": null,
      "grid_template_columns": null,
      "grid_template_rows": null,
      "height": null,
      "justify_content": null,
      "justify_items": null,
      "left": null,
      "margin": null,
      "max_height": null,
      "max_width": null,
      "min_height": null,
      "min_width": null,
      "object_fit": null,
      "object_position": null,
      "order": null,
      "overflow": null,
      "overflow_x": null,
      "overflow_y": null,
      "padding": null,
      "right": null,
      "top": null,
      "visibility": null,
      "width": null
     }
    },
    "1c6fd40a160a401685147ab88009c076": {
     "model_module": "@jupyter-widgets/controls",
     "model_module_version": "1.5.0",
     "model_name": "HTMLModel",
     "state": {
      "_dom_classes": [],
      "_model_module": "@jupyter-widgets/controls",
      "_model_module_version": "1.5.0",
      "_model_name": "HTMLModel",
      "_view_count": null,
      "_view_module": "@jupyter-widgets/controls",
      "_view_module_version": "1.5.0",
      "_view_name": "HTMLView",
      "description": "",
      "description_tooltip": null,
      "layout": "IPY_MODEL_4ae9bd3b156e46c08f933cd0f65835f1",
      "placeholder": "​",
      "style": "IPY_MODEL_f3c46546ece949b7860a96e275bcfa03",
      "value": " 1/1 [05:40&lt;00:00, 340.04s/it]"
     }
    },
    "29bd3f08a8b647aa888ce15ca6e92cdf": {
     "model_module": "@jupyter-widgets/base",
     "model_module_version": "1.2.0",
     "model_name": "LayoutModel",
     "state": {
      "_model_module": "@jupyter-widgets/base",
      "_model_module_version": "1.2.0",
      "_model_name": "LayoutModel",
      "_view_count": null,
      "_view_module": "@jupyter-widgets/base",
      "_view_module_version": "1.2.0",
      "_view_name": "LayoutView",
      "align_content": null,
      "align_items": null,
      "align_self": null,
      "border": null,
      "bottom": null,
      "display": null,
      "flex": null,
      "flex_flow": null,
      "grid_area": null,
      "grid_auto_columns": null,
      "grid_auto_flow": null,
      "grid_auto_rows": null,
      "grid_column": null,
      "grid_gap": null,
      "grid_row": null,
      "grid_template_areas": null,
      "grid_template_columns": null,
      "grid_template_rows": null,
      "height": null,
      "justify_content": null,
      "justify_items": null,
      "left": null,
      "margin": null,
      "max_height": null,
      "max_width": null,
      "min_height": null,
      "min_width": null,
      "object_fit": null,
      "object_position": null,
      "order": null,
      "overflow": null,
      "overflow_x": null,
      "overflow_y": null,
      "padding": null,
      "right": null,
      "top": null,
      "visibility": null,
      "width": null
     }
    },
    "2af83fa5d670443180d08a7a2d5317d9": {
     "model_module": "@jupyter-widgets/base",
     "model_module_version": "1.2.0",
     "model_name": "LayoutModel",
     "state": {
      "_model_module": "@jupyter-widgets/base",
      "_model_module_version": "1.2.0",
      "_model_name": "LayoutModel",
      "_view_count": null,
      "_view_module": "@jupyter-widgets/base",
      "_view_module_version": "1.2.0",
      "_view_name": "LayoutView",
      "align_content": null,
      "align_items": null,
      "align_self": null,
      "border": null,
      "bottom": null,
      "display": null,
      "flex": null,
      "flex_flow": null,
      "grid_area": null,
      "grid_auto_columns": null,
      "grid_auto_flow": null,
      "grid_auto_rows": null,
      "grid_column": null,
      "grid_gap": null,
      "grid_row": null,
      "grid_template_areas": null,
      "grid_template_columns": null,
      "grid_template_rows": null,
      "height": null,
      "justify_content": null,
      "justify_items": null,
      "left": null,
      "margin": null,
      "max_height": null,
      "max_width": null,
      "min_height": null,
      "min_width": null,
      "object_fit": null,
      "object_position": null,
      "order": null,
      "overflow": null,
      "overflow_x": null,
      "overflow_y": null,
      "padding": null,
      "right": null,
      "top": null,
      "visibility": null,
      "width": null
     }
    },
    "2d6706c943ff49fb86c8dd81908ef613": {
     "model_module": "@jupyter-widgets/controls",
     "model_module_version": "1.5.0",
     "model_name": "DescriptionStyleModel",
     "state": {
      "_model_module": "@jupyter-widgets/controls",
      "_model_module_version": "1.5.0",
      "_model_name": "DescriptionStyleModel",
      "_view_count": null,
      "_view_module": "@jupyter-widgets/base",
      "_view_module_version": "1.2.0",
      "_view_name": "StyleView",
      "description_width": ""
     }
    },
    "35a98168b95d4a43b96565ea694488a5": {
     "model_module": "@jupyter-widgets/controls",
     "model_module_version": "1.5.0",
     "model_name": "HTMLModel",
     "state": {
      "_dom_classes": [],
      "_model_module": "@jupyter-widgets/controls",
      "_model_module_version": "1.5.0",
      "_model_name": "HTMLModel",
      "_view_count": null,
      "_view_module": "@jupyter-widgets/controls",
      "_view_module_version": "1.5.0",
      "_view_name": "HTMLView",
      "description": "",
      "description_tooltip": null,
      "layout": "IPY_MODEL_2af83fa5d670443180d08a7a2d5317d9",
      "placeholder": "​",
      "style": "IPY_MODEL_aced6b2e6f234aa6ba0906cc2f0cacc0",
      "value": "100%"
     }
    },
    "38c295dfd4324963ad950813e6ebe7c2": {
     "model_module": "@jupyter-widgets/controls",
     "model_module_version": "1.5.0",
     "model_name": "HTMLModel",
     "state": {
      "_dom_classes": [],
      "_model_module": "@jupyter-widgets/controls",
      "_model_module_version": "1.5.0",
      "_model_name": "HTMLModel",
      "_view_count": null,
      "_view_module": "@jupyter-widgets/controls",
      "_view_module_version": "1.5.0",
      "_view_name": "HTMLView",
      "description": "",
      "description_tooltip": null,
      "layout": "IPY_MODEL_592acd6ba6aa4f0883647ac90c0a1355",
      "placeholder": "​",
      "style": "IPY_MODEL_03ef8776fe604e1bb86cd958d07d2e9e",
      "value": " 28322/28322 [03:28&lt;00:00, 148.15it/s]"
     }
    },
    "38d1881f697b4ea187cacca7a0ff8d38": {
     "model_module": "@jupyter-widgets/controls",
     "model_module_version": "1.5.0",
     "model_name": "HTMLModel",
     "state": {
      "_dom_classes": [],
      "_model_module": "@jupyter-widgets/controls",
      "_model_module_version": "1.5.0",
      "_model_name": "HTMLModel",
      "_view_count": null,
      "_view_module": "@jupyter-widgets/controls",
      "_view_module_version": "1.5.0",
      "_view_name": "HTMLView",
      "description": "",
      "description_tooltip": null,
      "layout": "IPY_MODEL_5cbf527ef0f140abb5a9befb77eb82f7",
      "placeholder": "​",
      "style": "IPY_MODEL_9cd2bb2cefbb408885f0376181238bf3",
      "value": " 28322/28322 [00:00&lt;00:00, 669060.81it/s]"
     }
    },
    "4ae9bd3b156e46c08f933cd0f65835f1": {
     "model_module": "@jupyter-widgets/base",
     "model_module_version": "1.2.0",
     "model_name": "LayoutModel",
     "state": {
      "_model_module": "@jupyter-widgets/base",
      "_model_module_version": "1.2.0",
      "_model_name": "LayoutModel",
      "_view_count": null,
      "_view_module": "@jupyter-widgets/base",
      "_view_module_version": "1.2.0",
      "_view_name": "LayoutView",
      "align_content": null,
      "align_items": null,
      "align_self": null,
      "border": null,
      "bottom": null,
      "display": null,
      "flex": null,
      "flex_flow": null,
      "grid_area": null,
      "grid_auto_columns": null,
      "grid_auto_flow": null,
      "grid_auto_rows": null,
      "grid_column": null,
      "grid_gap": null,
      "grid_row": null,
      "grid_template_areas": null,
      "grid_template_columns": null,
      "grid_template_rows": null,
      "height": null,
      "justify_content": null,
      "justify_items": null,
      "left": null,
      "margin": null,
      "max_height": null,
      "max_width": null,
      "min_height": null,
      "min_width": null,
      "object_fit": null,
      "object_position": null,
      "order": null,
      "overflow": null,
      "overflow_x": null,
      "overflow_y": null,
      "padding": null,
      "right": null,
      "top": null,
      "visibility": null,
      "width": null
     }
    },
    "513a57d9625e421eb006563699346f75": {
     "model_module": "@jupyter-widgets/controls",
     "model_module_version": "1.5.0",
     "model_name": "FloatProgressModel",
     "state": {
      "_dom_classes": [],
      "_model_module": "@jupyter-widgets/controls",
      "_model_module_version": "1.5.0",
      "_model_name": "FloatProgressModel",
      "_view_count": null,
      "_view_module": "@jupyter-widgets/controls",
      "_view_module_version": "1.5.0",
      "_view_name": "ProgressView",
      "bar_style": "success",
      "description": "",
      "description_tooltip": null,
      "layout": "IPY_MODEL_084ce0aa24c84e92ab7dfc33fec39703",
      "max": 28322,
      "min": 0,
      "orientation": "horizontal",
      "style": "IPY_MODEL_c18964b2d0a746d28733942dc89e441b",
      "value": 28322
     }
    },
    "592acd6ba6aa4f0883647ac90c0a1355": {
     "model_module": "@jupyter-widgets/base",
     "model_module_version": "1.2.0",
     "model_name": "LayoutModel",
     "state": {
      "_model_module": "@jupyter-widgets/base",
      "_model_module_version": "1.2.0",
      "_model_name": "LayoutModel",
      "_view_count": null,
      "_view_module": "@jupyter-widgets/base",
      "_view_module_version": "1.2.0",
      "_view_name": "LayoutView",
      "align_content": null,
      "align_items": null,
      "align_self": null,
      "border": null,
      "bottom": null,
      "display": null,
      "flex": null,
      "flex_flow": null,
      "grid_area": null,
      "grid_auto_columns": null,
      "grid_auto_flow": null,
      "grid_auto_rows": null,
      "grid_column": null,
      "grid_gap": null,
      "grid_row": null,
      "grid_template_areas": null,
      "grid_template_columns": null,
      "grid_template_rows": null,
      "height": null,
      "justify_content": null,
      "justify_items": null,
      "left": null,
      "margin": null,
      "max_height": null,
      "max_width": null,
      "min_height": null,
      "min_width": null,
      "object_fit": null,
      "object_position": null,
      "order": null,
      "overflow": null,
      "overflow_x": null,
      "overflow_y": null,
      "padding": null,
      "right": null,
      "top": null,
      "visibility": null,
      "width": null
     }
    },
    "59455b338a5f40e6adacad022d982153": {
     "model_module": "@jupyter-widgets/controls",
     "model_module_version": "1.5.0",
     "model_name": "DescriptionStyleModel",
     "state": {
      "_model_module": "@jupyter-widgets/controls",
      "_model_module_version": "1.5.0",
      "_model_name": "DescriptionStyleModel",
      "_view_count": null,
      "_view_module": "@jupyter-widgets/base",
      "_view_module_version": "1.2.0",
      "_view_name": "StyleView",
      "description_width": ""
     }
    },
    "5c16ce6ca6f04f4298813742f651f7f6": {
     "model_module": "@jupyter-widgets/controls",
     "model_module_version": "1.5.0",
     "model_name": "HBoxModel",
     "state": {
      "_dom_classes": [],
      "_model_module": "@jupyter-widgets/controls",
      "_model_module_version": "1.5.0",
      "_model_name": "HBoxModel",
      "_view_count": null,
      "_view_module": "@jupyter-widgets/controls",
      "_view_module_version": "1.5.0",
      "_view_name": "HBoxView",
      "box_style": "",
      "children": [
       "IPY_MODEL_015bc806b00d407c980122ee75d0857e",
       "IPY_MODEL_abcc5fe07275469a994b8c4bd9265c7c",
       "IPY_MODEL_38d1881f697b4ea187cacca7a0ff8d38"
      ],
      "layout": "IPY_MODEL_db50d71dd78f4b9daf7a8b2e9a357934"
     }
    },
    "5cbf527ef0f140abb5a9befb77eb82f7": {
     "model_module": "@jupyter-widgets/base",
     "model_module_version": "1.2.0",
     "model_name": "LayoutModel",
     "state": {
      "_model_module": "@jupyter-widgets/base",
      "_model_module_version": "1.2.0",
      "_model_name": "LayoutModel",
      "_view_count": null,
      "_view_module": "@jupyter-widgets/base",
      "_view_module_version": "1.2.0",
      "_view_name": "LayoutView",
      "align_content": null,
      "align_items": null,
      "align_self": null,
      "border": null,
      "bottom": null,
      "display": null,
      "flex": null,
      "flex_flow": null,
      "grid_area": null,
      "grid_auto_columns": null,
      "grid_auto_flow": null,
      "grid_auto_rows": null,
      "grid_column": null,
      "grid_gap": null,
      "grid_row": null,
      "grid_template_areas": null,
      "grid_template_columns": null,
      "grid_template_rows": null,
      "height": null,
      "justify_content": null,
      "justify_items": null,
      "left": null,
      "margin": null,
      "max_height": null,
      "max_width": null,
      "min_height": null,
      "min_width": null,
      "object_fit": null,
      "object_position": null,
      "order": null,
      "overflow": null,
      "overflow_x": null,
      "overflow_y": null,
      "padding": null,
      "right": null,
      "top": null,
      "visibility": null,
      "width": null
     }
    },
    "661e3d04eb1844cc8e9032a4ad5faf64": {
     "model_module": "@jupyter-widgets/controls",
     "model_module_version": "1.5.0",
     "model_name": "DescriptionStyleModel",
     "state": {
      "_model_module": "@jupyter-widgets/controls",
      "_model_module_version": "1.5.0",
      "_model_name": "DescriptionStyleModel",
      "_view_count": null,
      "_view_module": "@jupyter-widgets/base",
      "_view_module_version": "1.2.0",
      "_view_name": "StyleView",
      "description_width": ""
     }
    },
    "751273a82f344b968e0500cda17d1ce9": {
     "model_module": "@jupyter-widgets/controls",
     "model_module_version": "1.5.0",
     "model_name": "DescriptionStyleModel",
     "state": {
      "_model_module": "@jupyter-widgets/controls",
      "_model_module_version": "1.5.0",
      "_model_name": "DescriptionStyleModel",
      "_view_count": null,
      "_view_module": "@jupyter-widgets/base",
      "_view_module_version": "1.2.0",
      "_view_name": "StyleView",
      "description_width": ""
     }
    },
    "762e00d517084acda23c31a7a3abb77f": {
     "model_module": "@jupyter-widgets/base",
     "model_module_version": "1.2.0",
     "model_name": "LayoutModel",
     "state": {
      "_model_module": "@jupyter-widgets/base",
      "_model_module_version": "1.2.0",
      "_model_name": "LayoutModel",
      "_view_count": null,
      "_view_module": "@jupyter-widgets/base",
      "_view_module_version": "1.2.0",
      "_view_name": "LayoutView",
      "align_content": null,
      "align_items": null,
      "align_self": null,
      "border": null,
      "bottom": null,
      "display": null,
      "flex": null,
      "flex_flow": null,
      "grid_area": null,
      "grid_auto_columns": null,
      "grid_auto_flow": null,
      "grid_auto_rows": null,
      "grid_column": null,
      "grid_gap": null,
      "grid_row": null,
      "grid_template_areas": null,
      "grid_template_columns": null,
      "grid_template_rows": null,
      "height": null,
      "justify_content": null,
      "justify_items": null,
      "left": null,
      "margin": null,
      "max_height": null,
      "max_width": null,
      "min_height": null,
      "min_width": null,
      "object_fit": null,
      "object_position": null,
      "order": null,
      "overflow": null,
      "overflow_x": null,
      "overflow_y": null,
      "padding": null,
      "right": null,
      "top": null,
      "visibility": null,
      "width": null
     }
    },
    "806e72eb7d3e468cb5b1a9b02e46ad65": {
     "model_module": "@jupyter-widgets/controls",
     "model_module_version": "1.5.0",
     "model_name": "HBoxModel",
     "state": {
      "_dom_classes": [],
      "_model_module": "@jupyter-widgets/controls",
      "_model_module_version": "1.5.0",
      "_model_name": "HBoxModel",
      "_view_count": null,
      "_view_module": "@jupyter-widgets/controls",
      "_view_module_version": "1.5.0",
      "_view_name": "HBoxView",
      "box_style": "",
      "children": [
       "IPY_MODEL_35a98168b95d4a43b96565ea694488a5",
       "IPY_MODEL_d750012a96814e48aad6c3742dfdd90e",
       "IPY_MODEL_14c2c783bb55463da533e4f6ffa7a0fb"
      ],
      "layout": "IPY_MODEL_182a43c72daa46978c41072c5f8455d5"
     }
    },
    "837b22f2aecc40cf96a1eb8dbe1e1761": {
     "model_module": "@jupyter-widgets/controls",
     "model_module_version": "1.5.0",
     "model_name": "ProgressStyleModel",
     "state": {
      "_model_module": "@jupyter-widgets/controls",
      "_model_module_version": "1.5.0",
      "_model_name": "ProgressStyleModel",
      "_view_count": null,
      "_view_module": "@jupyter-widgets/base",
      "_view_module_version": "1.2.0",
      "_view_name": "StyleView",
      "bar_color": null,
      "description_width": ""
     }
    },
    "9026e87d6dc64af38657bca0c4bfa95e": {
     "model_module": "@jupyter-widgets/controls",
     "model_module_version": "1.5.0",
     "model_name": "HBoxModel",
     "state": {
      "_dom_classes": [],
      "_model_module": "@jupyter-widgets/controls",
      "_model_module_version": "1.5.0",
      "_model_name": "HBoxModel",
      "_view_count": null,
      "_view_module": "@jupyter-widgets/controls",
      "_view_module_version": "1.5.0",
      "_view_name": "HBoxView",
      "box_style": "",
      "children": [
       "IPY_MODEL_c32d1fd0badd4a5bba54969ded09369e",
       "IPY_MODEL_513a57d9625e421eb006563699346f75",
       "IPY_MODEL_38c295dfd4324963ad950813e6ebe7c2"
      ],
      "layout": "IPY_MODEL_9cd633cbf53f4a05aec8b3f12c973a08"
     }
    },
    "9cd2bb2cefbb408885f0376181238bf3": {
     "model_module": "@jupyter-widgets/controls",
     "model_module_version": "1.5.0",
     "model_name": "DescriptionStyleModel",
     "state": {
      "_model_module": "@jupyter-widgets/controls",
      "_model_module_version": "1.5.0",
      "_model_name": "DescriptionStyleModel",
      "_view_count": null,
      "_view_module": "@jupyter-widgets/base",
      "_view_module_version": "1.2.0",
      "_view_name": "StyleView",
      "description_width": ""
     }
    },
    "9cd633cbf53f4a05aec8b3f12c973a08": {
     "model_module": "@jupyter-widgets/base",
     "model_module_version": "1.2.0",
     "model_name": "LayoutModel",
     "state": {
      "_model_module": "@jupyter-widgets/base",
      "_model_module_version": "1.2.0",
      "_model_name": "LayoutModel",
      "_view_count": null,
      "_view_module": "@jupyter-widgets/base",
      "_view_module_version": "1.2.0",
      "_view_name": "LayoutView",
      "align_content": null,
      "align_items": null,
      "align_self": null,
      "border": null,
      "bottom": null,
      "display": null,
      "flex": null,
      "flex_flow": null,
      "grid_area": null,
      "grid_auto_columns": null,
      "grid_auto_flow": null,
      "grid_auto_rows": null,
      "grid_column": null,
      "grid_gap": null,
      "grid_row": null,
      "grid_template_areas": null,
      "grid_template_columns": null,
      "grid_template_rows": null,
      "height": null,
      "justify_content": null,
      "justify_items": null,
      "left": null,
      "margin": null,
      "max_height": null,
      "max_width": null,
      "min_height": null,
      "min_width": null,
      "object_fit": null,
      "object_position": null,
      "order": null,
      "overflow": null,
      "overflow_x": null,
      "overflow_y": null,
      "padding": null,
      "right": null,
      "top": null,
      "visibility": null,
      "width": null
     }
    },
    "9e719f4e87e14a9eba43c740f3492b15": {
     "model_module": "@jupyter-widgets/controls",
     "model_module_version": "1.5.0",
     "model_name": "HBoxModel",
     "state": {
      "_dom_classes": [],
      "_model_module": "@jupyter-widgets/controls",
      "_model_module_version": "1.5.0",
      "_model_name": "HBoxModel",
      "_view_count": null,
      "_view_module": "@jupyter-widgets/controls",
      "_view_module_version": "1.5.0",
      "_view_name": "HBoxView",
      "box_style": "",
      "children": [
       "IPY_MODEL_d78a91dbd8ce4743ba535f87f0d3a924",
       "IPY_MODEL_cbd6561e13a84891acd36062231d789e",
       "IPY_MODEL_e45010af0bb04b86a2896828caaa3e99"
      ],
      "layout": "IPY_MODEL_13c692a4ee78475290dc57870f23f9ac"
     }
    },
    "abcc5fe07275469a994b8c4bd9265c7c": {
     "model_module": "@jupyter-widgets/controls",
     "model_module_version": "1.5.0",
     "model_name": "FloatProgressModel",
     "state": {
      "_dom_classes": [],
      "_model_module": "@jupyter-widgets/controls",
      "_model_module_version": "1.5.0",
      "_model_name": "FloatProgressModel",
      "_view_count": null,
      "_view_module": "@jupyter-widgets/controls",
      "_view_module_version": "1.5.0",
      "_view_name": "ProgressView",
      "bar_style": "success",
      "description": "",
      "description_tooltip": null,
      "layout": "IPY_MODEL_762e00d517084acda23c31a7a3abb77f",
      "max": 28322,
      "min": 0,
      "orientation": "horizontal",
      "style": "IPY_MODEL_f939b9cbe05d4aafb2c76e6f47d16b33",
      "value": 28322
     }
    },
    "aced6b2e6f234aa6ba0906cc2f0cacc0": {
     "model_module": "@jupyter-widgets/controls",
     "model_module_version": "1.5.0",
     "model_name": "DescriptionStyleModel",
     "state": {
      "_model_module": "@jupyter-widgets/controls",
      "_model_module_version": "1.5.0",
      "_model_name": "DescriptionStyleModel",
      "_view_count": null,
      "_view_module": "@jupyter-widgets/base",
      "_view_module_version": "1.2.0",
      "_view_name": "StyleView",
      "description_width": ""
     }
    },
    "b26a0704975d481c95adc686ca072736": {
     "model_module": "@jupyter-widgets/base",
     "model_module_version": "1.2.0",
     "model_name": "LayoutModel",
     "state": {
      "_model_module": "@jupyter-widgets/base",
      "_model_module_version": "1.2.0",
      "_model_name": "LayoutModel",
      "_view_count": null,
      "_view_module": "@jupyter-widgets/base",
      "_view_module_version": "1.2.0",
      "_view_name": "LayoutView",
      "align_content": null,
      "align_items": null,
      "align_self": null,
      "border": null,
      "bottom": null,
      "display": null,
      "flex": null,
      "flex_flow": null,
      "grid_area": null,
      "grid_auto_columns": null,
      "grid_auto_flow": null,
      "grid_auto_rows": null,
      "grid_column": null,
      "grid_gap": null,
      "grid_row": null,
      "grid_template_areas": null,
      "grid_template_columns": null,
      "grid_template_rows": null,
      "height": null,
      "justify_content": null,
      "justify_items": null,
      "left": null,
      "margin": null,
      "max_height": null,
      "max_width": null,
      "min_height": null,
      "min_width": null,
      "object_fit": null,
      "object_position": null,
      "order": null,
      "overflow": null,
      "overflow_x": null,
      "overflow_y": null,
      "padding": null,
      "right": null,
      "top": null,
      "visibility": null,
      "width": null
     }
    },
    "b285370cddf4476eb1320614c0cd61b4": {
     "model_module": "@jupyter-widgets/controls",
     "model_module_version": "1.5.0",
     "model_name": "DescriptionStyleModel",
     "state": {
      "_model_module": "@jupyter-widgets/controls",
      "_model_module_version": "1.5.0",
      "_model_name": "DescriptionStyleModel",
      "_view_count": null,
      "_view_module": "@jupyter-widgets/base",
      "_view_module_version": "1.2.0",
      "_view_name": "StyleView",
      "description_width": ""
     }
    },
    "b6b7124e58154c70b0432c13dbc65866": {
     "model_module": "@jupyter-widgets/controls",
     "model_module_version": "1.5.0",
     "model_name": "ProgressStyleModel",
     "state": {
      "_model_module": "@jupyter-widgets/controls",
      "_model_module_version": "1.5.0",
      "_model_name": "ProgressStyleModel",
      "_view_count": null,
      "_view_module": "@jupyter-widgets/base",
      "_view_module_version": "1.2.0",
      "_view_name": "StyleView",
      "bar_color": null,
      "description_width": ""
     }
    },
    "c18964b2d0a746d28733942dc89e441b": {
     "model_module": "@jupyter-widgets/controls",
     "model_module_version": "1.5.0",
     "model_name": "ProgressStyleModel",
     "state": {
      "_model_module": "@jupyter-widgets/controls",
      "_model_module_version": "1.5.0",
      "_model_name": "ProgressStyleModel",
      "_view_count": null,
      "_view_module": "@jupyter-widgets/base",
      "_view_module_version": "1.2.0",
      "_view_name": "StyleView",
      "bar_color": null,
      "description_width": ""
     }
    },
    "c32d1fd0badd4a5bba54969ded09369e": {
     "model_module": "@jupyter-widgets/controls",
     "model_module_version": "1.5.0",
     "model_name": "HTMLModel",
     "state": {
      "_dom_classes": [],
      "_model_module": "@jupyter-widgets/controls",
      "_model_module_version": "1.5.0",
      "_model_name": "HTMLModel",
      "_view_count": null,
      "_view_module": "@jupyter-widgets/controls",
      "_view_module_version": "1.5.0",
      "_view_name": "HTMLView",
      "description": "",
      "description_tooltip": null,
      "layout": "IPY_MODEL_f2d2953ce49842c8885e4a47eb5d9731",
      "placeholder": "​",
      "style": "IPY_MODEL_751273a82f344b968e0500cda17d1ce9",
      "value": "100%"
     }
    },
    "c46504338fa04627ab6a6c91b1ebc13c": {
     "model_module": "@jupyter-widgets/controls",
     "model_module_version": "1.5.0",
     "model_name": "HBoxModel",
     "state": {
      "_dom_classes": [],
      "_model_module": "@jupyter-widgets/controls",
      "_model_module_version": "1.5.0",
      "_model_name": "HBoxModel",
      "_view_count": null,
      "_view_module": "@jupyter-widgets/controls",
      "_view_module_version": "1.5.0",
      "_view_name": "HBoxView",
      "box_style": "",
      "children": [
       "IPY_MODEL_d615003ac76d4e0399af9e47df171eb7",
       "IPY_MODEL_eb4f8bbcee6b4e6f8acc21b87c638ce8",
       "IPY_MODEL_1c6fd40a160a401685147ab88009c076"
      ],
      "layout": "IPY_MODEL_efe519fd16e14b328da591f6fe096682"
     }
    },
    "cbd6561e13a84891acd36062231d789e": {
     "model_module": "@jupyter-widgets/controls",
     "model_module_version": "1.5.0",
     "model_name": "FloatProgressModel",
     "state": {
      "_dom_classes": [],
      "_model_module": "@jupyter-widgets/controls",
      "_model_module_version": "1.5.0",
      "_model_name": "FloatProgressModel",
      "_view_count": null,
      "_view_module": "@jupyter-widgets/controls",
      "_view_module_version": "1.5.0",
      "_view_name": "ProgressView",
      "bar_style": "success",
      "description": "",
      "description_tooltip": null,
      "layout": "IPY_MODEL_0a18cac4940e4f0aad79b9fa2e1d4e5e",
      "max": 4117,
      "min": 0,
      "orientation": "horizontal",
      "style": "IPY_MODEL_837b22f2aecc40cf96a1eb8dbe1e1761",
      "value": 4117
     }
    },
    "cee6bd431479420480242d8c2fb03fad": {
     "model_module": "@jupyter-widgets/base",
     "model_module_version": "1.2.0",
     "model_name": "LayoutModel",
     "state": {
      "_model_module": "@jupyter-widgets/base",
      "_model_module_version": "1.2.0",
      "_model_name": "LayoutModel",
      "_view_count": null,
      "_view_module": "@jupyter-widgets/base",
      "_view_module_version": "1.2.0",
      "_view_name": "LayoutView",
      "align_content": null,
      "align_items": null,
      "align_self": null,
      "border": null,
      "bottom": null,
      "display": null,
      "flex": null,
      "flex_flow": null,
      "grid_area": null,
      "grid_auto_columns": null,
      "grid_auto_flow": null,
      "grid_auto_rows": null,
      "grid_column": null,
      "grid_gap": null,
      "grid_row": null,
      "grid_template_areas": null,
      "grid_template_columns": null,
      "grid_template_rows": null,
      "height": null,
      "justify_content": null,
      "justify_items": null,
      "left": null,
      "margin": null,
      "max_height": null,
      "max_width": null,
      "min_height": null,
      "min_width": null,
      "object_fit": null,
      "object_position": null,
      "order": null,
      "overflow": null,
      "overflow_x": null,
      "overflow_y": null,
      "padding": null,
      "right": null,
      "top": null,
      "visibility": null,
      "width": null
     }
    },
    "d1b651dd148d4d0b8d1d842b1b514b07": {
     "model_module": "@jupyter-widgets/base",
     "model_module_version": "1.2.0",
     "model_name": "LayoutModel",
     "state": {
      "_model_module": "@jupyter-widgets/base",
      "_model_module_version": "1.2.0",
      "_model_name": "LayoutModel",
      "_view_count": null,
      "_view_module": "@jupyter-widgets/base",
      "_view_module_version": "1.2.0",
      "_view_name": "LayoutView",
      "align_content": null,
      "align_items": null,
      "align_self": null,
      "border": null,
      "bottom": null,
      "display": null,
      "flex": null,
      "flex_flow": null,
      "grid_area": null,
      "grid_auto_columns": null,
      "grid_auto_flow": null,
      "grid_auto_rows": null,
      "grid_column": null,
      "grid_gap": null,
      "grid_row": null,
      "grid_template_areas": null,
      "grid_template_columns": null,
      "grid_template_rows": null,
      "height": null,
      "justify_content": null,
      "justify_items": null,
      "left": null,
      "margin": null,
      "max_height": null,
      "max_width": null,
      "min_height": null,
      "min_width": null,
      "object_fit": null,
      "object_position": null,
      "order": null,
      "overflow": null,
      "overflow_x": null,
      "overflow_y": null,
      "padding": null,
      "right": null,
      "top": null,
      "visibility": null,
      "width": null
     }
    },
    "d615003ac76d4e0399af9e47df171eb7": {
     "model_module": "@jupyter-widgets/controls",
     "model_module_version": "1.5.0",
     "model_name": "HTMLModel",
     "state": {
      "_dom_classes": [],
      "_model_module": "@jupyter-widgets/controls",
      "_model_module_version": "1.5.0",
      "_model_name": "HTMLModel",
      "_view_count": null,
      "_view_module": "@jupyter-widgets/controls",
      "_view_module_version": "1.5.0",
      "_view_name": "HTMLView",
      "description": "",
      "description_tooltip": null,
      "layout": "IPY_MODEL_1a26e8a25bb247ecae8812a0c8a734d8",
      "placeholder": "​",
      "style": "IPY_MODEL_661e3d04eb1844cc8e9032a4ad5faf64",
      "value": "100%"
     }
    },
    "d750012a96814e48aad6c3742dfdd90e": {
     "model_module": "@jupyter-widgets/controls",
     "model_module_version": "1.5.0",
     "model_name": "FloatProgressModel",
     "state": {
      "_dom_classes": [],
      "_model_module": "@jupyter-widgets/controls",
      "_model_module_version": "1.5.0",
      "_model_name": "FloatProgressModel",
      "_view_count": null,
      "_view_module": "@jupyter-widgets/controls",
      "_view_module_version": "1.5.0",
      "_view_name": "ProgressView",
      "bar_style": "success",
      "description": "",
      "description_tooltip": null,
      "layout": "IPY_MODEL_cee6bd431479420480242d8c2fb03fad",
      "max": 2810377,
      "min": 0,
      "orientation": "horizontal",
      "style": "IPY_MODEL_b6b7124e58154c70b0432c13dbc65866",
      "value": 2810377
     }
    },
    "d78a91dbd8ce4743ba535f87f0d3a924": {
     "model_module": "@jupyter-widgets/controls",
     "model_module_version": "1.5.0",
     "model_name": "HTMLModel",
     "state": {
      "_dom_classes": [],
      "_model_module": "@jupyter-widgets/controls",
      "_model_module_version": "1.5.0",
      "_model_name": "HTMLModel",
      "_view_count": null,
      "_view_module": "@jupyter-widgets/controls",
      "_view_module_version": "1.5.0",
      "_view_name": "HTMLView",
      "description": "",
      "description_tooltip": null,
      "layout": "IPY_MODEL_dd8e0f3c5d1a424a97e3a22a2d4a3369",
      "placeholder": "​",
      "style": "IPY_MODEL_2d6706c943ff49fb86c8dd81908ef613",
      "value": "100%"
     }
    },
    "db50d71dd78f4b9daf7a8b2e9a357934": {
     "model_module": "@jupyter-widgets/base",
     "model_module_version": "1.2.0",
     "model_name": "LayoutModel",
     "state": {
      "_model_module": "@jupyter-widgets/base",
      "_model_module_version": "1.2.0",
      "_model_name": "LayoutModel",
      "_view_count": null,
      "_view_module": "@jupyter-widgets/base",
      "_view_module_version": "1.2.0",
      "_view_name": "LayoutView",
      "align_content": null,
      "align_items": null,
      "align_self": null,
      "border": null,
      "bottom": null,
      "display": null,
      "flex": null,
      "flex_flow": null,
      "grid_area": null,
      "grid_auto_columns": null,
      "grid_auto_flow": null,
      "grid_auto_rows": null,
      "grid_column": null,
      "grid_gap": null,
      "grid_row": null,
      "grid_template_areas": null,
      "grid_template_columns": null,
      "grid_template_rows": null,
      "height": null,
      "justify_content": null,
      "justify_items": null,
      "left": null,
      "margin": null,
      "max_height": null,
      "max_width": null,
      "min_height": null,
      "min_width": null,
      "object_fit": null,
      "object_position": null,
      "order": null,
      "overflow": null,
      "overflow_x": null,
      "overflow_y": null,
      "padding": null,
      "right": null,
      "top": null,
      "visibility": null,
      "width": null
     }
    },
    "dd8e0f3c5d1a424a97e3a22a2d4a3369": {
     "model_module": "@jupyter-widgets/base",
     "model_module_version": "1.2.0",
     "model_name": "LayoutModel",
     "state": {
      "_model_module": "@jupyter-widgets/base",
      "_model_module_version": "1.2.0",
      "_model_name": "LayoutModel",
      "_view_count": null,
      "_view_module": "@jupyter-widgets/base",
      "_view_module_version": "1.2.0",
      "_view_name": "LayoutView",
      "align_content": null,
      "align_items": null,
      "align_self": null,
      "border": null,
      "bottom": null,
      "display": null,
      "flex": null,
      "flex_flow": null,
      "grid_area": null,
      "grid_auto_columns": null,
      "grid_auto_flow": null,
      "grid_auto_rows": null,
      "grid_column": null,
      "grid_gap": null,
      "grid_row": null,
      "grid_template_areas": null,
      "grid_template_columns": null,
      "grid_template_rows": null,
      "height": null,
      "justify_content": null,
      "justify_items": null,
      "left": null,
      "margin": null,
      "max_height": null,
      "max_width": null,
      "min_height": null,
      "min_width": null,
      "object_fit": null,
      "object_position": null,
      "order": null,
      "overflow": null,
      "overflow_x": null,
      "overflow_y": null,
      "padding": null,
      "right": null,
      "top": null,
      "visibility": null,
      "width": null
     }
    },
    "dfb0db234e2e4bc39c5c5be526a7c674": {
     "model_module": "@jupyter-widgets/base",
     "model_module_version": "1.2.0",
     "model_name": "LayoutModel",
     "state": {
      "_model_module": "@jupyter-widgets/base",
      "_model_module_version": "1.2.0",
      "_model_name": "LayoutModel",
      "_view_count": null,
      "_view_module": "@jupyter-widgets/base",
      "_view_module_version": "1.2.0",
      "_view_name": "LayoutView",
      "align_content": null,
      "align_items": null,
      "align_self": null,
      "border": null,
      "bottom": null,
      "display": null,
      "flex": null,
      "flex_flow": null,
      "grid_area": null,
      "grid_auto_columns": null,
      "grid_auto_flow": null,
      "grid_auto_rows": null,
      "grid_column": null,
      "grid_gap": null,
      "grid_row": null,
      "grid_template_areas": null,
      "grid_template_columns": null,
      "grid_template_rows": null,
      "height": null,
      "justify_content": null,
      "justify_items": null,
      "left": null,
      "margin": null,
      "max_height": null,
      "max_width": null,
      "min_height": null,
      "min_width": null,
      "object_fit": null,
      "object_position": null,
      "order": null,
      "overflow": null,
      "overflow_x": null,
      "overflow_y": null,
      "padding": null,
      "right": null,
      "top": null,
      "visibility": null,
      "width": null
     }
    },
    "e45010af0bb04b86a2896828caaa3e99": {
     "model_module": "@jupyter-widgets/controls",
     "model_module_version": "1.5.0",
     "model_name": "HTMLModel",
     "state": {
      "_dom_classes": [],
      "_model_module": "@jupyter-widgets/controls",
      "_model_module_version": "1.5.0",
      "_model_name": "HTMLModel",
      "_view_count": null,
      "_view_module": "@jupyter-widgets/controls",
      "_view_module_version": "1.5.0",
      "_view_name": "HTMLView",
      "description": "",
      "description_tooltip": null,
      "layout": "IPY_MODEL_b26a0704975d481c95adc686ca072736",
      "placeholder": "​",
      "style": "IPY_MODEL_b285370cddf4476eb1320614c0cd61b4",
      "value": " 4117/4117 [05:38&lt;00:00, 12.60it/s]"
     }
    },
    "e968e1bca0bb496e9a62e9b2dc8563ea": {
     "model_module": "@jupyter-widgets/controls",
     "model_module_version": "1.5.0",
     "model_name": "DescriptionStyleModel",
     "state": {
      "_model_module": "@jupyter-widgets/controls",
      "_model_module_version": "1.5.0",
      "_model_name": "DescriptionStyleModel",
      "_view_count": null,
      "_view_module": "@jupyter-widgets/base",
      "_view_module_version": "1.2.0",
      "_view_name": "StyleView",
      "description_width": ""
     }
    },
    "eb4f8bbcee6b4e6f8acc21b87c638ce8": {
     "model_module": "@jupyter-widgets/controls",
     "model_module_version": "1.5.0",
     "model_name": "FloatProgressModel",
     "state": {
      "_dom_classes": [],
      "_model_module": "@jupyter-widgets/controls",
      "_model_module_version": "1.5.0",
      "_model_name": "FloatProgressModel",
      "_view_count": null,
      "_view_module": "@jupyter-widgets/controls",
      "_view_module_version": "1.5.0",
      "_view_name": "ProgressView",
      "bar_style": "success",
      "description": "",
      "description_tooltip": null,
      "layout": "IPY_MODEL_29bd3f08a8b647aa888ce15ca6e92cdf",
      "max": 1,
      "min": 0,
      "orientation": "horizontal",
      "style": "IPY_MODEL_efa997eb0db14239a5fd04b4c774df8e",
      "value": 1
     }
    },
    "efa997eb0db14239a5fd04b4c774df8e": {
     "model_module": "@jupyter-widgets/controls",
     "model_module_version": "1.5.0",
     "model_name": "ProgressStyleModel",
     "state": {
      "_model_module": "@jupyter-widgets/controls",
      "_model_module_version": "1.5.0",
      "_model_name": "ProgressStyleModel",
      "_view_count": null,
      "_view_module": "@jupyter-widgets/base",
      "_view_module_version": "1.2.0",
      "_view_name": "StyleView",
      "bar_color": null,
      "description_width": ""
     }
    },
    "efe519fd16e14b328da591f6fe096682": {
     "model_module": "@jupyter-widgets/base",
     "model_module_version": "1.2.0",
     "model_name": "LayoutModel",
     "state": {
      "_model_module": "@jupyter-widgets/base",
      "_model_module_version": "1.2.0",
      "_model_name": "LayoutModel",
      "_view_count": null,
      "_view_module": "@jupyter-widgets/base",
      "_view_module_version": "1.2.0",
      "_view_name": "LayoutView",
      "align_content": null,
      "align_items": null,
      "align_self": null,
      "border": null,
      "bottom": null,
      "display": null,
      "flex": null,
      "flex_flow": null,
      "grid_area": null,
      "grid_auto_columns": null,
      "grid_auto_flow": null,
      "grid_auto_rows": null,
      "grid_column": null,
      "grid_gap": null,
      "grid_row": null,
      "grid_template_areas": null,
      "grid_template_columns": null,
      "grid_template_rows": null,
      "height": null,
      "justify_content": null,
      "justify_items": null,
      "left": null,
      "margin": null,
      "max_height": null,
      "max_width": null,
      "min_height": null,
      "min_width": null,
      "object_fit": null,
      "object_position": null,
      "order": null,
      "overflow": null,
      "overflow_x": null,
      "overflow_y": null,
      "padding": null,
      "right": null,
      "top": null,
      "visibility": null,
      "width": null
     }
    },
    "f2d2953ce49842c8885e4a47eb5d9731": {
     "model_module": "@jupyter-widgets/base",
     "model_module_version": "1.2.0",
     "model_name": "LayoutModel",
     "state": {
      "_model_module": "@jupyter-widgets/base",
      "_model_module_version": "1.2.0",
      "_model_name": "LayoutModel",
      "_view_count": null,
      "_view_module": "@jupyter-widgets/base",
      "_view_module_version": "1.2.0",
      "_view_name": "LayoutView",
      "align_content": null,
      "align_items": null,
      "align_self": null,
      "border": null,
      "bottom": null,
      "display": null,
      "flex": null,
      "flex_flow": null,
      "grid_area": null,
      "grid_auto_columns": null,
      "grid_auto_flow": null,
      "grid_auto_rows": null,
      "grid_column": null,
      "grid_gap": null,
      "grid_row": null,
      "grid_template_areas": null,
      "grid_template_columns": null,
      "grid_template_rows": null,
      "height": null,
      "justify_content": null,
      "justify_items": null,
      "left": null,
      "margin": null,
      "max_height": null,
      "max_width": null,
      "min_height": null,
      "min_width": null,
      "object_fit": null,
      "object_position": null,
      "order": null,
      "overflow": null,
      "overflow_x": null,
      "overflow_y": null,
      "padding": null,
      "right": null,
      "top": null,
      "visibility": null,
      "width": null
     }
    },
    "f3c46546ece949b7860a96e275bcfa03": {
     "model_module": "@jupyter-widgets/controls",
     "model_module_version": "1.5.0",
     "model_name": "DescriptionStyleModel",
     "state": {
      "_model_module": "@jupyter-widgets/controls",
      "_model_module_version": "1.5.0",
      "_model_name": "DescriptionStyleModel",
      "_view_count": null,
      "_view_module": "@jupyter-widgets/base",
      "_view_module_version": "1.2.0",
      "_view_name": "StyleView",
      "description_width": ""
     }
    },
    "f939b9cbe05d4aafb2c76e6f47d16b33": {
     "model_module": "@jupyter-widgets/controls",
     "model_module_version": "1.5.0",
     "model_name": "ProgressStyleModel",
     "state": {
      "_model_module": "@jupyter-widgets/controls",
      "_model_module_version": "1.5.0",
      "_model_name": "ProgressStyleModel",
      "_view_count": null,
      "_view_module": "@jupyter-widgets/base",
      "_view_module_version": "1.2.0",
      "_view_name": "StyleView",
      "bar_color": null,
      "description_width": ""
     }
    }
   }
  }
 },
 "nbformat": 4,
 "nbformat_minor": 1
}
